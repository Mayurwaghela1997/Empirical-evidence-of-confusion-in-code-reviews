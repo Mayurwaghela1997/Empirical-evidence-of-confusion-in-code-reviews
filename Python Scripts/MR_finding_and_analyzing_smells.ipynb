{
 "cells": [
  {
   "cell_type": "code",
   "execution_count": 3,
   "id": "3a86c5b5",
   "metadata": {},
   "outputs": [],
   "source": [
    "import contractions\n",
    "import pandas as pd\n",
    "import numpy as np\n",
    "import seaborn as sns\n",
    "import json\n",
    "import os \n",
    "from nltk.stem import WordNetLemmatizer \n",
    "from sqlalchemy import create_engine\n",
    "from urllib.parse import quote\n",
    "from dateutil import parser\n",
    "import matplotlib.pyplot as plt\n",
    "from collections import Counter\n",
    "\n",
    "# pd.set_option('display.max_colwidth', 500)\n",
    "\n",
    "with open('Credentials.json') as f:\n",
    "    data = json.load(f)\n",
    "    mariadb_pwd = data['MariaDB_PWD']\n",
    "    git_token = data['GIT_Token']\n",
    "\n",
    "engine = create_engine('mysql+pymysql://root:%s@localhost/codereview' % quote(mariadb_pwd))"
   ]
  },
  {
   "cell_type": "code",
   "execution_count": 191,
   "id": "888b61bb",
   "metadata": {},
   "outputs": [],
   "source": [
    "mrDF = pd.read_sql(\"select * FROM mergerequest\", engine)\n",
    "Notes_ManualDF = pd.read_excel(\"MergeRequest_ConfusionCodingScheme_Manual_Label_Mayur.xlsx\")"
   ]
  },
  {
   "cell_type": "code",
   "execution_count": 192,
   "id": "35ad1589",
   "metadata": {},
   "outputs": [],
   "source": [
    "#replacing 1000+ changes count with 1000 as of now later need to change it with real value\n",
    "mrDF.loc[mrDF['changesCount']=='1000+', 'changesCount'] = 1126\n",
    "mrDF['changesCount'] = pd.to_numeric(mrDF['changesCount'])\n",
    "mrDF.loc[mrDF['MRIID'].isin(Notes_ManualDF['MRIID']), 'CCS'] = True\n",
    "mrDF.loc[~mrDF['MRIID'].isin(Notes_ManualDF['MRIID']), 'CCS'] = False"
   ]
  },
  {
   "cell_type": "code",
   "execution_count": 210,
   "id": "870d4cc8",
   "metadata": {},
   "outputs": [],
   "source": [
    "Manual_No_Confusion = pd.unique(Notes_ManualDF[~Notes_ManualDF['MRIID'].isin(Notes_ManualDF[Notes_ManualDF['Mayur_label']=='Confusion']['MRIID'])]['MRIID'])\n",
    "mrDF.loc[mrDF['MRIID'].isin(Notes_ManualDF[Notes_ManualDF['Mayur_label']=='Confusion']['MRIID']), 'Manual_Label'] = True\n",
    "mrDF.loc[mrDF['MRIID'].isin(Manual_No_Confusion), 'Manual_Label'] = False"
   ]
  },
  {
   "cell_type": "code",
   "execution_count": 194,
   "id": "738707ca",
   "metadata": {},
   "outputs": [
    {
     "data": {
      "text/plain": [
       "(array([1619, 1634, 1644, 1648, 1664, 1673, 1680, 1682, 1683, 1686, 1689,\n",
       "        1692, 1703, 1708, 1710, 1714, 1724, 1726, 1727, 1730, 1744, 1750,\n",
       "        1752, 1756, 1758, 1759, 1772, 1774, 1777, 1781, 1786, 1795, 1806,\n",
       "        1807, 1808, 1817, 1820, 1845, 1849, 1853, 1856, 1858, 1863, 1866,\n",
       "        1867, 1872, 1874, 1889, 1900, 1901, 1903, 1923, 1925, 1928, 1934,\n",
       "        1945, 1954, 1968, 1971, 1973, 1978, 1982, 1985, 1990, 1991, 1995,\n",
       "        1997, 1998, 2001, 2007, 2008, 2021, 2030, 2034, 2035, 2037, 2046,\n",
       "        2053, 2057, 2063, 2069, 2073], dtype=int64),\n",
       " 82)"
      ]
     },
     "execution_count": 194,
     "metadata": {},
     "output_type": "execute_result"
    }
   ],
   "source": [
    "confusion_MRIID = pd.unique(mrDF[mrDF['Manual_Label']==True]['MRIID'])\n",
    "confusion_MRIID.sort()\n",
    "confusion_MRIID , len(confusion_MRIID)"
   ]
  },
  {
   "cell_type": "code",
   "execution_count": 195,
   "id": "0407b8f5",
   "metadata": {},
   "outputs": [],
   "source": [
    "PMD_list = os.listdir('./reports/')\n",
    "for MRIID in confusion_MRIID:\n",
    "    cpd_kotlin_after_file = [k for k in PMD_list if str(MRIID) in k and 'cpd-report-kotlin-after' in k]\n",
    "    cpd_kotlin_before_file = [k for k in PMD_list if str(MRIID) in k and 'cpd-report-kotlin-before' in k]\n",
    "    cpd_after_file = [k for k in PMD_list if str(MRIID) in k and 'cpd-report-after' in k]\n",
    "    cpd_before_file = [k for k in PMD_list if str(MRIID) in k and 'cpd-report-before' in k]\n",
    "    pmd_after_file = [k for k in PMD_list if str(MRIID) in k and 'pmd-report-after' in k]\n",
    "    pmd_before_file = [k for k in PMD_list if str(MRIID) in k and 'pmd-report-before' in k]\n",
    "    if(len(cpd_kotlin_after_file)==1 and len(cpd_kotlin_before_file)==1):\n",
    "        after = open(\"./reports/\"+str(cpd_kotlin_after_file[0]),'r').read().split('=====================================================================\\n')\n",
    "        before = open(\"./reports/\"+str(cpd_kotlin_before_file[0]),'r').read().split('=====================================================================\\n')\n",
    "        removed_kotlin_cpd_count = len(set(before) - set(after))\n",
    "        added_kotlin_cpd_count = len(set(after) - set(before))\n",
    "        existed_kotlin_cpd_count = len(set(after).intersection(set(before)))\n",
    "        mrDF.loc[mrDF['MRIID']==int(MRIID),'cpd_kotlin_removed'] = removed_kotlin_cpd_count\n",
    "        mrDF.loc[mrDF['MRIID']==int(MRIID),'cpd_kotlin_added'] = added_kotlin_cpd_count\n",
    "        mrDF.loc[mrDF['MRIID']==int(MRIID),'cpd_kotlin_existed'] = existed_kotlin_cpd_count\n",
    "    if(len(cpd_after_file)==1 and len(cpd_before_file)==1):\n",
    "        after = open(\"./reports/\"+str(cpd_after_file[0]),'r').read().split('=====================================================================\\n')\n",
    "        before = open(\"./reports/\"+str(cpd_before_file[0]),'r').read().split('=====================================================================\\n')\n",
    "        removed_cpd_count = len(set(before) - set(after))\n",
    "        added_cpd_count = len(set(after) - set(before))\n",
    "        existed_cpd_count = len(set(after).intersection(set(before)))\n",
    "        mrDF.loc[mrDF['MRIID']==int(MRIID),'cpd_removed'] = removed_cpd_count\n",
    "        mrDF.loc[mrDF['MRIID']==int(MRIID),'cpd_added'] = added_cpd_count\n",
    "        mrDF.loc[mrDF['MRIID']==int(MRIID),'cpd_existed'] = existed_cpd_count\n",
    "    if(len(pmd_after_file)==1 and len(pmd_before_file)==1):\n",
    "        pmd_before = pd.DataFrame(open(\"./reports/\"+str(pmd_before_file[0]),'r').readlines(), columns=['smell'])\n",
    "        pmd_after = pd.DataFrame(open(\"./reports/\"+str(pmd_after_file[0]),'r').readlines(), columns=['smell'])\n",
    "        pmd_before['Count'] = 1\n",
    "        pmd_before = pmd_before.groupby(['smell'],dropna=False).Count.count().reset_index().drop_duplicates()\n",
    "        pmd_after['Count'] = 1\n",
    "        pmd_after = pmd_after.groupby(['smell'],dropna=False).Count.count().reset_index().drop_duplicates()\n",
    "        df = pd.merge(pmd_before, pmd_after, on=['smell'], how=\"outer\", indicator=True)\n",
    "        df['Count_x'] = df['Count_x'].fillna(0)\n",
    "        df['Count_y'] = df['Count_y'].fillna(0)\n",
    "        removed_smells_count = sum(df[df['Count_x']>df['Count_y']]['Count_x'] - df[df['Count_x']>df['Count_y']]['Count_y'])\n",
    "        added_smells_count = sum(df[df['Count_x']<df['Count_y']]['Count_y'] - df[df['Count_x']<df['Count_y']]['Count_x'])\n",
    "        existed_smells_count = sum(df[df['Count_x']==df['Count_y']]['Count_x']) + sum(df[df['Count_x']<df['Count_y']]['Count_x']) + sum(df[df['Count_x']>df['Count_y']]['Count_y'])\n",
    "        mrDF.loc[mrDF['MRIID']==int(MRIID),'pmd_removed'] = removed_smells_count\n",
    "        mrDF.loc[mrDF['MRIID']==int(MRIID),'pmd_added'] = added_smells_count\n",
    "        mrDF.loc[mrDF['MRIID']==int(MRIID),'pmd_existed'] = existed_smells_count\n",
    "#         after = open(\"./reports/\"+str(pmd_after_file[0]),'r').readlines()\n",
    "#         before = open(\"./reports/\"+str(pmd_before_file[0]),'r').readlines()\n",
    "#         removed_smells_count = len(set(before) - set(after))\n",
    "#         added_smells_count = len(set(after) - set(before))\n",
    "#         existed_smells_count = len(set(after).intersection(set(before)))\n",
    "#         mrDF.loc[mrDF['MRIID']==int(MRIID),'pmd_removed'] = removed_smells_count\n",
    "#         mrDF.loc[mrDF['MRIID']==int(MRIID),'pmd_added'] = added_smells_count\n",
    "#         mrDF.loc[mrDF['MRIID']==int(MRIID),'pmd_existed'] = existed_smells_count"
   ]
  },
  {
   "cell_type": "code",
   "execution_count": 196,
   "id": "4c3e0d70",
   "metadata": {},
   "outputs": [
    {
     "data": {
      "text/plain": [
       "79"
      ]
     },
     "execution_count": 196,
     "metadata": {},
     "output_type": "execute_result"
    }
   ],
   "source": [
    "len(mrDF[~(mrDF['pmd_added'].isna())])"
   ]
  },
  {
   "cell_type": "code",
   "execution_count": 197,
   "id": "5e3a98b0",
   "metadata": {},
   "outputs": [
    {
     "data": {
      "text/plain": [
       "79"
      ]
     },
     "execution_count": 197,
     "metadata": {},
     "output_type": "execute_result"
    }
   ],
   "source": [
    "#the sampling method with controlling variable size and type of merge request is commented below\n",
    "sample_MRIID = [1617, 1627, 1629, 1635, 1637, 1642, 1646, 1647, 1652, 1655, 1660, 1667,\n",
    "       1674, 1681, 1687, 1697, 1702, 1705, 1711, 1712, 1717, 1719, 1721,\n",
    "       1728, 1732, 1733, 1736, 1746, 1775, 1776, 1782, 1789, 1791, 1815,\n",
    "       1823, 1824, 1826, 1830, 1859, 1875, 1878, 1879, 1881, 1883, 1884,\n",
    "       1886, 1893, 1904, 1905, 1909, 1916, 1918, 1919, 1920, 1921, 1930,\n",
    "       1933, 1939, 1940, 1941, 1950, 1964, 1966, 1967, 1970, 1975, 1983,\n",
    "       1988, 2004, 2006, 2014, 2015, 2017, 2018, 2022, 2026, 2031,\n",
    "       2036, 2039]\n",
    "sample_mrDF = mrDF[mrDF['MRIID'].isin(sample_MRIID)]\n",
    "len(sample_mrDF)"
   ]
  },
  {
   "cell_type": "code",
   "execution_count": 198,
   "id": "5aa1e4e9",
   "metadata": {},
   "outputs": [],
   "source": [
    "PMD_list = os.listdir('./reports_sample/')\n",
    "for MRIID in sample_MRIID:\n",
    "    cpd_kotlin_after_file = [k for k in PMD_list if str(MRIID) in k.split('-') and 'cpd-report-kotlin-after' in k]\n",
    "    cpd_kotlin_before_file = [k for k in PMD_list if str(MRIID) in k.split('-') and 'cpd-report-kotlin-before' in k]\n",
    "    cpd_after_file = [k for k in PMD_list if str(MRIID) in k.split('-') and 'cpd-report-after' in k]\n",
    "    cpd_before_file = [k for k in PMD_list if str(MRIID) in k.split('-') and 'cpd-report-before' in k]\n",
    "    pmd_after_file = [k for k in PMD_list if str(MRIID) in k.split('-') and 'pmd-report-after' in k]\n",
    "    pmd_before_file = [k for k in PMD_list if str(MRIID) in k.split('-') and 'pmd-report-before' in k]\n",
    "    if(len(cpd_kotlin_after_file)==1 and len(cpd_kotlin_before_file)==1):\n",
    "        after = open(\"./reports_sample/\"+str(cpd_kotlin_after_file[0]),'r').read().split('=====================================================================\\n')\n",
    "        before = open(\"./reports_sample/\"+str(cpd_kotlin_before_file[0]),'r').read().split('=====================================================================\\n')\n",
    "        removed_kotlin_cpd_count = len(set(before) - set(after))\n",
    "        added_kotlin_cpd_count = len(set(after) - set(before))\n",
    "        existed_kotlin_cpd_count = len(set(after).intersection(set(before)))\n",
    "        mrDF.loc[mrDF['MRIID']==int(MRIID),'cpd_kotlin_removed'] = removed_kotlin_cpd_count\n",
    "        mrDF.loc[mrDF['MRIID']==int(MRIID),'cpd_kotlin_added'] = added_kotlin_cpd_count\n",
    "        mrDF.loc[mrDF['MRIID']==int(MRIID),'cpd_kotlin_existed'] = existed_kotlin_cpd_count\n",
    "    if(len(cpd_after_file)==1 and len(cpd_before_file)==1):\n",
    "        after = open(\"./reports_sample/\"+str(cpd_after_file[0]),'r').read().split('=====================================================================\\n')\n",
    "        before = open(\"./reports_sample/\"+str(cpd_before_file[0]),'r').read().split('=====================================================================\\n')\n",
    "        removed_cpd_count = len(set(before) - set(after))\n",
    "        added_cpd_count = len(set(after) - set(before))\n",
    "        existed_cpd_count = len(set(after).intersection(set(before)))\n",
    "        mrDF.loc[mrDF['MRIID']==int(MRIID),'cpd_removed'] = removed_cpd_count\n",
    "        mrDF.loc[mrDF['MRIID']==int(MRIID),'cpd_added'] = added_cpd_count\n",
    "        mrDF.loc[mrDF['MRIID']==int(MRIID),'cpd_existed'] = existed_cpd_count\n",
    "    if(len(pmd_after_file)==1 and len(pmd_before_file)==1):\n",
    "        pmd_before = pd.DataFrame(open(\"./reports_sample/\"+str(pmd_before_file[0]),'r').readlines(), columns=['smell'])\n",
    "        pmd_after = pd.DataFrame(open(\"./reports_sample/\"+str(pmd_after_file[0]),'r').readlines(), columns=['smell'])\n",
    "        pmd_before['Count'] = 1\n",
    "        pmd_before = pmd_before.groupby(['smell'],dropna=False).Count.count().reset_index().drop_duplicates()\n",
    "        pmd_after['Count'] = 1\n",
    "        pmd_after = pmd_after.groupby(['smell'],dropna=False).Count.count().reset_index().drop_duplicates()\n",
    "        df = pd.merge(pmd_before, pmd_after, on=['smell'], how=\"outer\", indicator=True)\n",
    "        df['Count_x'] = df['Count_x'].fillna(0)\n",
    "        df['Count_y'] = df['Count_y'].fillna(0)\n",
    "        removed_smells_count = sum(df[df['Count_x']>df['Count_y']]['Count_x'] - df[df['Count_x']>df['Count_y']]['Count_y'])\n",
    "        added_smells_count = sum(df[df['Count_x']<df['Count_y']]['Count_y'] - df[df['Count_x']<df['Count_y']]['Count_x'])\n",
    "        existed_smells_count = sum(df[df['Count_x']==df['Count_y']]['Count_x']) + sum(df[df['Count_x']<df['Count_y']]['Count_x']) + sum(df[df['Count_x']>df['Count_y']]['Count_y'])\n",
    "        mrDF.loc[mrDF['MRIID']==int(MRIID),'pmd_removed'] = removed_smells_count\n",
    "        mrDF.loc[mrDF['MRIID']==int(MRIID),'pmd_added'] = added_smells_count\n",
    "        mrDF.loc[mrDF['MRIID']==int(MRIID),'pmd_existed'] = existed_smells_count\n",
    "    #only for MRIID 1983 because it has cpd only for before\n",
    "    if(len(cpd_after_file)==0 and len(cpd_before_file)==1):\n",
    "        before = open(\"./reports_sample/\"+str(cpd_before_file[0]),'r').read().split('=====================================================================\\n')\n",
    "        removed_cpd_count = len(set(before))\n",
    "        added_cpd_count = 0\n",
    "        existed_cpd_count = 0\n",
    "        mrDF.loc[mrDF['MRIID']==int(MRIID),'cpd_removed'] = removed_cpd_count\n",
    "        mrDF.loc[mrDF['MRIID']==int(MRIID),'cpd_added'] = added_cpd_count\n",
    "        mrDF.loc[mrDF['MRIID']==int(MRIID),'cpd_existed'] = existed_cpd_count"
   ]
  },
  {
   "cell_type": "code",
   "execution_count": 199,
   "id": "b20406c5",
   "metadata": {},
   "outputs": [
    {
     "data": {
      "text/plain": [
       "158"
      ]
     },
     "execution_count": 199,
     "metadata": {},
     "output_type": "execute_result"
    }
   ],
   "source": [
    "len(mrDF[~(mrDF['pmd_added'].isna())])"
   ]
  },
  {
   "cell_type": "code",
   "execution_count": 200,
   "id": "2542d363",
   "metadata": {},
   "outputs": [],
   "source": [
    "sonar_list = os.listdir('./SonarReport/')\n",
    "for MRIID in confusion_MRIID:\n",
    "    sonar_after_file = [k for k in sonar_list if str(MRIID) in k.split('-') and 'after' in k]\n",
    "    sonar_before_file = [k for k in sonar_list if str(MRIID) in k.split('-') and 'before' in k]\n",
    "    if(len(sonar_after_file)==1 and len(sonar_before_file)==1):\n",
    "        before = pd.read_excel('./SonarReport/'+sonar_before_file[0])\n",
    "        after = pd.read_excel('./SonarReport/'+sonar_after_file[0])\n",
    "        before['Count'] = 1\n",
    "        before = before.groupby(['Resource','Date','Description','Path','Rule key','Server issue key'],dropna=False).Count.count().reset_index().drop_duplicates()\n",
    "        after['Count'] = 1\n",
    "        after = after.groupby(['Resource','Date','Description','Path','Rule key','Server issue key'],dropna=False).Count.count().reset_index().drop_duplicates()\n",
    "        df = pd.merge(before, after, on=['Resource','Description','Path','Rule key','Server issue key'], how=\"outer\", indicator=True)\n",
    "        df['Count_x'] = df['Count_x'].fillna(0)\n",
    "        df['Count_y'] = df['Count_y'].fillna(0)\n",
    "        smells_removed = sum(df[df['Count_x']>df['Count_y']]['Count_x'] - df[df['Count_x']>df['Count_y']]['Count_y'])\n",
    "        smells_added = sum(df[df['Count_x']<df['Count_y']]['Count_y'] - df[df['Count_x']<df['Count_y']]['Count_x'])\n",
    "        smells_existed = sum(df[df['Count_x']==df['Count_y']]['Count_x']) + sum(df[df['Count_x']<df['Count_y']]['Count_x']) + sum(df[df['Count_x']>df['Count_y']]['Count_y'])\n",
    "        mrDF.loc[mrDF['MRIID']==int(MRIID),'sonar_removed'] = smells_removed\n",
    "        mrDF.loc[mrDF['MRIID']==int(MRIID),'sonar_added'] = smells_added\n",
    "        mrDF.loc[mrDF['MRIID']==int(MRIID),'sonar_existed'] = smells_existed"
   ]
  },
  {
   "cell_type": "code",
   "execution_count": 201,
   "id": "b88854ad",
   "metadata": {},
   "outputs": [
    {
     "data": {
      "text/plain": [
       "(78, 79)"
      ]
     },
     "execution_count": 201,
     "metadata": {},
     "output_type": "execute_result"
    }
   ],
   "source": [
    "len(mrDF[(mrDF['sonar_added']>0)]), len(mrDF[~(mrDF['sonar_added'].isna())])"
   ]
  },
  {
   "cell_type": "code",
   "execution_count": 202,
   "id": "c1e2d575",
   "metadata": {},
   "outputs": [],
   "source": [
    "sonar_list = os.listdir('./SonarReport_sample/')\n",
    "for MRIID in sample_MRIID:\n",
    "    sonar_after_file = [k for k in sonar_list if str(MRIID) in k.split('-') and 'after' in k]\n",
    "    sonar_before_file = [k for k in sonar_list if str(MRIID) in k.split('-') and 'before' in k]\n",
    "    if(len(sonar_after_file)==1 and len(sonar_before_file)==1):\n",
    "        before = pd.read_excel('./SonarReport_sample/'+sonar_before_file[0])\n",
    "        after = pd.read_excel('./SonarReport_sample/'+sonar_after_file[0])\n",
    "        before['Count'] = 1\n",
    "        before = before.groupby(['Resource','Date','Description','Path','Rule key','Server issue key'],dropna=False).Count.count().reset_index().drop_duplicates()\n",
    "        after['Count'] = 1\n",
    "        after = after.groupby(['Resource','Date','Description','Path','Rule key','Server issue key'],dropna=False).Count.count().reset_index().drop_duplicates()\n",
    "        df = pd.merge(before, after, on=['Resource','Description','Path','Rule key','Server issue key'], how=\"outer\", indicator=True)\n",
    "        df['Count_x'] = df['Count_x'].fillna(0)\n",
    "        df['Count_y'] = df['Count_y'].fillna(0)\n",
    "        smells_removed = sum(df[df['Count_x']>df['Count_y']]['Count_x'] - df[df['Count_x']>df['Count_y']]['Count_y'])\n",
    "        smells_added = sum(df[df['Count_x']<df['Count_y']]['Count_y'] - df[df['Count_x']<df['Count_y']]['Count_x'])\n",
    "        smells_existed = sum(df[df['Count_x']==df['Count_y']]['Count_x']) + sum(df[df['Count_x']<df['Count_y']]['Count_x']) + sum(df[df['Count_x']>df['Count_y']]['Count_y'])\n",
    "        mrDF.loc[mrDF['MRIID']==int(MRIID),'sonar_removed'] = smells_removed\n",
    "        mrDF.loc[mrDF['MRIID']==int(MRIID),'sonar_added'] = smells_added\n",
    "        mrDF.loc[mrDF['MRIID']==int(MRIID),'sonar_existed'] = smells_existed"
   ]
  },
  {
   "cell_type": "code",
   "execution_count": 203,
   "id": "e4a1e903",
   "metadata": {},
   "outputs": [
    {
     "data": {
      "text/plain": [
       "(145, 158)"
      ]
     },
     "execution_count": 203,
     "metadata": {},
     "output_type": "execute_result"
    }
   ],
   "source": [
    "len(mrDF[(mrDF['sonar_added']>0)]), len(mrDF[~(mrDF['sonar_added'].isna())])"
   ]
  },
  {
   "cell_type": "code",
   "execution_count": 224,
   "id": "7fe1616b",
   "metadata": {},
   "outputs": [],
   "source": [
    "manual_label = mrDF[(mrDF['Manual_Label'].notnull())]\n",
    "confusion_df = mrDF[(mrDF['Manual_Label']==True)]\n",
    "confusion_smell_df = confusion_df[~confusion_df['sonar_added'].isna()]\n",
    "sample_mrDF = mrDF[mrDF['MRIID'].isin(sample_MRIID)]\n",
    "confusion_smell_df = confusion_smell_df.fillna(0)\n",
    "sample_mrDF = sample_mrDF.fillna(0)"
   ]
  },
  {
   "cell_type": "code",
   "execution_count": 225,
   "id": "0a3bbeb6",
   "metadata": {},
   "outputs": [
    {
     "data": {
      "text/plain": [
       "(125, 82, 79, 79, 79)"
      ]
     },
     "execution_count": 225,
     "metadata": {},
     "output_type": "execute_result"
    }
   ],
   "source": [
    "len(manual_label), len(confusion_df), len(confusion_smell_df), len(sample_mrDF), len(sample_mrDF[~sample_mrDF['sonar_added'].isna()])"
   ]
  },
  {
   "cell_type": "code",
   "execution_count": 226,
   "id": "0c87dc6b",
   "metadata": {},
   "outputs": [
    {
     "data": {
      "image/png": "[encoded data removed]",
      "text/plain": [
       "<Figure size 936x504 with 1 Axes>"
      ]
     },
     "metadata": {
      "needs_background": "light"
     },
     "output_type": "display_data"
    }
   ],
   "source": [
    "plt.rcParams[\"figure.figsize\"] = [13, 7]\n",
    "plt.rcParams[\"figure.autolayout\"] = True\n",
    "\n",
    "confusion_changesCount = pd.to_numeric(confusion_smell_df['changesCount']).value_counts().sort_index()\n",
    "sample_changesCount = pd.to_numeric(sample_mrDF['changesCount']).value_counts().sort_index()\n",
    "df = pd.DataFrame({'Manual-Confusion': confusion_changesCount, 'CSS-False-sampled':sample_changesCount})\n",
    "df.plot.bar(rot=0)\n",
    "plt.title('No. of merge requests with files changed')\n",
    "plt.xlabel(\"No. of files changed\")\n",
    "plt.ylabel(\"No. of merge requests\")\n",
    "plt.show()"
   ]
  },
  {
   "cell_type": "code",
   "execution_count": 166,
   "id": "0e616015",
   "metadata": {},
   "outputs": [],
   "source": [
    "# SAMPLING\n",
    "#taking 79 samples, one sample per merge request so that we have 79 mergeRequest which doesn't include any keyword from framework\n",
    "#also controlling the changesCount variable by taking same amount of sample from each mr type category\n",
    "# sample1_feature = mrDF[(mrDF['changesCount']>0) & (mrDF['changesCount']<=30) & (mrDF['CCS']==False) & (mrDF['type']=='feature')].sample(n=45)\n",
    "# sample1_bugfix = mrDF[(mrDF['changesCount']>0) & (mrDF['changesCount']<=30) & (mrDF['CCS']==False) & (mrDF['type']=='bugfix')].sample(n=7)\n",
    "# sample1_test = mrDF[(mrDF['changesCount']>0) & (mrDF['changesCount']<=30) & (mrDF['CCS']==False) & (mrDF['type']=='test')].sample(n=1)\n",
    "# sample1_fix = mrDF[(mrDF['changesCount']>0) & (mrDF['changesCount']<=30) & (mrDF['CCS']==False) & (mrDF['type']=='fix')].sample(n=1)\n",
    "# sample1_QA = mrDF[(mrDF['changesCount']>0) & (mrDF['changesCount']<=30) & (mrDF['CCS']==False) & (mrDF['type']=='QA')].sample(n=1)\n",
    "# sample1 = sample1_feature.append(sample1_bugfix, ignore_index=True).append(sample1_test, ignore_index=True).append(sample1_fix, ignore_index=True).append(sample1_QA, ignore_index=True)\n",
    "# sample2 = mrDF[(mrDF['changesCount']>30) & (mrDF['changesCount']<=60) & (mrDF['CCS']==False)].sample(n=17)\n",
    "# sample3 = mrDF[(mrDF['changesCount']>60) & (mrDF['CCS']==False)].sample(n=7)\n",
    "# sample_mrDF= sample1.append(sample2, ignore_index=True).append(sample3, ignore_index=True)\n",
    "# len(sample_mrDF)\n",
    "\n",
    "# sampleMRIID = [1617, 1627, 1629, 1635, 1637, 1642, 1646, 1647, 1652, 1655, 1660, 1667,\n",
    "#        1674, 1681, 1687, 1697, 1702, 1705, 1711, 1712, 1717, 1719, 1721,\n",
    "#        1728, 1732, 1733, 1736, 1746, 1775, 1776, 1782, 1789, 1791, 1815,\n",
    "#        1823, 1824, 1826, 1830, 1859, 1875, 1878, 1879, 1881, 1883, 1884,\n",
    "#        1886, 1893, 1904, 1905, 1909, 1916, 1918, 1919, 1920, 1921, 1930,\n",
    "#        1933, 1939, 1940, 1941, 1950, 1964, 1966, 1967, 1970, 1975, 1983,\n",
    "#        1988, 2004, 2006, 2014, 2015, 2017, 2018, 2022, 2026, 2031,\n",
    "#        2036, 2039]"
   ]
  },
  {
   "cell_type": "code",
   "execution_count": 277,
   "id": "dcdc617a",
   "metadata": {},
   "outputs": [
    {
     "data": {
      "image/png": "[encoded data removed]",
      "text/plain": [
       "<Figure size 936x504 with 1 Axes>"
      ]
     },
     "metadata": {
      "needs_background": "light"
     },
     "output_type": "display_data"
    },
    {
     "data": {
      "text/html": [
       "<div>\n",
       "<style scoped>\n",
       "    .dataframe tbody tr th:only-of-type {\n",
       "        vertical-align: middle;\n",
       "    }\n",
       "\n",
       "    .dataframe tbody tr th {\n",
       "        vertical-align: top;\n",
       "    }\n",
       "\n",
       "    .dataframe thead th {\n",
       "        text-align: right;\n",
       "    }\n",
       "</style>\n",
       "<table border=\"1\" class=\"dataframe\">\n",
       "  <thead>\n",
       "    <tr style=\"text-align: right;\">\n",
       "      <th></th>\n",
       "      <th>Manual-Confusion</th>\n",
       "      <th>CSS-False</th>\n",
       "      <th>CSS-False-sampled</th>\n",
       "    </tr>\n",
       "  </thead>\n",
       "  <tbody>\n",
       "    <tr>\n",
       "      <th>(-0.001, 30.0]</th>\n",
       "      <td>55</td>\n",
       "      <td>290</td>\n",
       "      <td>55</td>\n",
       "    </tr>\n",
       "    <tr>\n",
       "      <th>(30.0, 60.0]</th>\n",
       "      <td>17</td>\n",
       "      <td>20</td>\n",
       "      <td>17</td>\n",
       "    </tr>\n",
       "    <tr>\n",
       "      <th>(60.0, 1126.0]</th>\n",
       "      <td>7</td>\n",
       "      <td>15</td>\n",
       "      <td>7</td>\n",
       "    </tr>\n",
       "  </tbody>\n",
       "</table>\n",
       "</div>"
      ],
      "text/plain": [
       "                Manual-Confusion  CSS-False  CSS-False-sampled\n",
       "(-0.001, 30.0]                55        290                 55\n",
       "(30.0, 60.0]                  17         20                 17\n",
       "(60.0, 1126.0]                 7         15                  7"
      ]
     },
     "execution_count": 277,
     "metadata": {},
     "output_type": "execute_result"
    },
    {
     "data": {
      "text/plain": [
       "<Figure size 936x504 with 0 Axes>"
      ]
     },
     "metadata": {},
     "output_type": "display_data"
    }
   ],
   "source": [
    "#checking the distribution of changesCount from manual true confusion and CSS false \n",
    "data= pd.to_numeric(confusion_smell_df['changesCount'])\n",
    "bins = [0,30,60,max(mrDF['changesCount'])]\n",
    "out = pd.cut(data, bins, include_lowest=True)\n",
    "data2 = pd.to_numeric(mrDF[(mrDF['CCS']==False)]['changesCount'])\n",
    "out2 = pd.cut(data2, bins, include_lowest=True)\n",
    "sampled_data = pd.to_numeric(sample_mrDF['changesCount'])\n",
    "out3 = pd.cut(sampled_data, bins, include_lowest=True)\n",
    "\n",
    "df = pd.DataFrame({'Manual-Confusion': out.value_counts(sort=False), 'CSS-False':out2.value_counts(sort=False), 'CSS-False-sampled':out3.value_counts(sort=False)})\n",
    "df.plot.bar(rot=0)\n",
    "plt.title('No. of merge requests with files changed')\n",
    "plt.xlabel(\"No. of files changed\")\n",
    "plt.ylabel(\"No. of merge requests\")\n",
    "plt.show()\n",
    "plt.savefig('books_read.png')\n",
    "df"
   ]
  },
  {
   "cell_type": "code",
   "execution_count": 13,
   "id": "fd64710e",
   "metadata": {},
   "outputs": [
    {
     "data": {
      "image/png": "[encoded data removed]",
      "text/plain": [
       "<Figure size 936x504 with 1 Axes>"
      ]
     },
     "metadata": {
      "needs_background": "light"
     },
     "output_type": "display_data"
    },
    {
     "data": {
      "text/html": [
       "<div>\n",
       "<style scoped>\n",
       "    .dataframe tbody tr th:only-of-type {\n",
       "        vertical-align: middle;\n",
       "    }\n",
       "\n",
       "    .dataframe tbody tr th {\n",
       "        vertical-align: top;\n",
       "    }\n",
       "\n",
       "    .dataframe thead th {\n",
       "        text-align: right;\n",
       "    }\n",
       "</style>\n",
       "<table border=\"1\" class=\"dataframe\">\n",
       "  <thead>\n",
       "    <tr style=\"text-align: right;\">\n",
       "      <th></th>\n",
       "      <th>Manual-Confusion</th>\n",
       "      <th>No-Confusion</th>\n",
       "      <th>Sample-0to30-files-changed</th>\n",
       "    </tr>\n",
       "  </thead>\n",
       "  <tbody>\n",
       "    <tr>\n",
       "      <th>QA</th>\n",
       "      <td>1.0</td>\n",
       "      <td>8</td>\n",
       "      <td>1.0</td>\n",
       "    </tr>\n",
       "    <tr>\n",
       "      <th>bugfix</th>\n",
       "      <td>7.0</td>\n",
       "      <td>112</td>\n",
       "      <td>7.0</td>\n",
       "    </tr>\n",
       "    <tr>\n",
       "      <th>feature</th>\n",
       "      <td>45.0</td>\n",
       "      <td>147</td>\n",
       "      <td>45.0</td>\n",
       "    </tr>\n",
       "    <tr>\n",
       "      <th>fix</th>\n",
       "      <td>1.0</td>\n",
       "      <td>14</td>\n",
       "      <td>1.0</td>\n",
       "    </tr>\n",
       "    <tr>\n",
       "      <th>improvement</th>\n",
       "      <td>NaN</td>\n",
       "      <td>5</td>\n",
       "      <td>NaN</td>\n",
       "    </tr>\n",
       "    <tr>\n",
       "      <th>test</th>\n",
       "      <td>1.0</td>\n",
       "      <td>3</td>\n",
       "      <td>1.0</td>\n",
       "    </tr>\n",
       "  </tbody>\n",
       "</table>\n",
       "</div>"
      ],
      "text/plain": [
       "             Manual-Confusion  No-Confusion  Sample-0to30-files-changed\n",
       "QA                        1.0             8                         1.0\n",
       "bugfix                    7.0           112                         7.0\n",
       "feature                  45.0           147                        45.0\n",
       "fix                       1.0            14                         1.0\n",
       "improvement               NaN             5                         NaN\n",
       "test                      1.0             3                         1.0"
      ]
     },
     "execution_count": 13,
     "metadata": {},
     "output_type": "execute_result"
    }
   ],
   "source": [
    "type_confusion_true_0_30 = confusion_smell_df[(confusion_smell_df['changesCount']>0) & (confusion_smell_df['changesCount']<=30)]['type'].value_counts(sort=False)\n",
    "type_css_false_0_30 = mrDF[(mrDF['changesCount']>0) & (mrDF['changesCount']<=30) & (mrDF['CCS']==False)]['type'].value_counts(sort=False)\n",
    "type_sample1_0_30 = sample_mrDF[(sample_mrDF['changesCount']>0) & (sample_mrDF['changesCount']<=30)]['type'].value_counts(sort=False)\n",
    "type_0_30_df = pd.DataFrame({'Manual-Confusion': type_confusion_true_0_30,'No-Confusion':type_css_false_0_30 ,'Sample-0to30-files-changed':type_sample1_0_30})\n",
    "\n",
    "\n",
    "type_0_30_df.plot.bar(rot=0)\n",
    "plt.title('Types of merge requests between 0 to 30 files changed')\n",
    "plt.xlabel(\"Type of merge requests\")\n",
    "plt.ylabel(\"No. of merge requests\")\n",
    "plt.show()\n",
    "type_0_30_df"
   ]
  },
  {
   "cell_type": "code",
   "execution_count": 231,
   "id": "f9ca7a08",
   "metadata": {},
   "outputs": [
    {
     "name": "stderr",
     "output_type": "stream",
     "text": [
      "C:\\Users\\MAYUR~1.WAG\\AppData\\Local\\Temp/ipykernel_15532/2298238131.py:3: UserWarning: Boolean Series key will be reindexed to match DataFrame index.\n",
      "  type_sample2_30_60 = sample_mrDF[(mrDF['changesCount']>30) & (sample_mrDF['changesCount']<=60)]['type'].value_counts(sort=False)\n"
     ]
    },
    {
     "data": {
      "image/png": "[encoded data removed]",
      "text/plain": [
       "<Figure size 936x504 with 1 Axes>"
      ]
     },
     "metadata": {
      "needs_background": "light"
     },
     "output_type": "display_data"
    },
    {
     "data": {
      "text/html": [
       "<div>\n",
       "<style scoped>\n",
       "    .dataframe tbody tr th:only-of-type {\n",
       "        vertical-align: middle;\n",
       "    }\n",
       "\n",
       "    .dataframe tbody tr th {\n",
       "        vertical-align: top;\n",
       "    }\n",
       "\n",
       "    .dataframe thead th {\n",
       "        text-align: right;\n",
       "    }\n",
       "</style>\n",
       "<table border=\"1\" class=\"dataframe\">\n",
       "  <thead>\n",
       "    <tr style=\"text-align: right;\">\n",
       "      <th></th>\n",
       "      <th>Manual-Confusion</th>\n",
       "      <th>CSS-False</th>\n",
       "      <th>Sample2</th>\n",
       "    </tr>\n",
       "  </thead>\n",
       "  <tbody>\n",
       "    <tr>\n",
       "      <th>feature</th>\n",
       "      <td>16</td>\n",
       "      <td>20.0</td>\n",
       "      <td>17.0</td>\n",
       "    </tr>\n",
       "    <tr>\n",
       "      <th>fix</th>\n",
       "      <td>1</td>\n",
       "      <td>NaN</td>\n",
       "      <td>NaN</td>\n",
       "    </tr>\n",
       "  </tbody>\n",
       "</table>\n",
       "</div>"
      ],
      "text/plain": [
       "         Manual-Confusion  CSS-False  Sample2\n",
       "feature                16       20.0     17.0\n",
       "fix                     1        NaN      NaN"
      ]
     },
     "execution_count": 231,
     "metadata": {},
     "output_type": "execute_result"
    }
   ],
   "source": [
    "type_confusion_true_30_60 = confusion_smell_df[(confusion_smell_df['changesCount']>30) & (confusion_smell_df['changesCount']<=60)]['type'].value_counts(sort=False)\n",
    "type_css_false_30_60 = mrDF[(mrDF['changesCount']>30) & (mrDF['changesCount']<=60) & (mrDF['CCS']==False)]['type'].value_counts(sort=False)\n",
    "type_sample2_30_60 = sample_mrDF[(mrDF['changesCount']>30) & (sample_mrDF['changesCount']<=60)]['type'].value_counts(sort=False)\n",
    "type_30_60_df = pd.DataFrame({'Manual-Confusion': type_confusion_true_30_60,'CSS-False':type_css_false_30_60 ,'Sample2':type_sample2_30_60})\n",
    "\n",
    "type_30_60_df.plot.bar(rot=0)\n",
    "plt.title('Types of merge requests between 30 to 60 files changed')\n",
    "plt.xlabel(\"Type of merge requests\")\n",
    "plt.ylabel(\"No. of merge requests\")\n",
    "plt.show()\n",
    "type_30_60_df"
   ]
  },
  {
   "cell_type": "code",
   "execution_count": 232,
   "id": "49b548a7",
   "metadata": {},
   "outputs": [
    {
     "data": {
      "image/png": "[encoded data removed]",
      "text/plain": [
       "<Figure size 936x504 with 1 Axes>"
      ]
     },
     "metadata": {
      "needs_background": "light"
     },
     "output_type": "display_data"
    },
    {
     "data": {
      "text/html": [
       "<div>\n",
       "<style scoped>\n",
       "    .dataframe tbody tr th:only-of-type {\n",
       "        vertical-align: middle;\n",
       "    }\n",
       "\n",
       "    .dataframe tbody tr th {\n",
       "        vertical-align: top;\n",
       "    }\n",
       "\n",
       "    .dataframe thead th {\n",
       "        text-align: right;\n",
       "    }\n",
       "</style>\n",
       "<table border=\"1\" class=\"dataframe\">\n",
       "  <thead>\n",
       "    <tr style=\"text-align: right;\">\n",
       "      <th></th>\n",
       "      <th>Manual-Confusion</th>\n",
       "      <th>CSS-False</th>\n",
       "      <th>Sample3</th>\n",
       "    </tr>\n",
       "  </thead>\n",
       "  <tbody>\n",
       "    <tr>\n",
       "      <th>feature</th>\n",
       "      <td>7</td>\n",
       "      <td>15</td>\n",
       "      <td>7</td>\n",
       "    </tr>\n",
       "  </tbody>\n",
       "</table>\n",
       "</div>"
      ],
      "text/plain": [
       "         Manual-Confusion  CSS-False  Sample3\n",
       "feature                 7         15        7"
      ]
     },
     "execution_count": 232,
     "metadata": {},
     "output_type": "execute_result"
    }
   ],
   "source": [
    "type_confusion_true_60 = confusion_smell_df[(confusion_smell_df['changesCount']>60)]['type'].value_counts(sort=False)\n",
    "type_css_false_60 = mrDF[(mrDF['changesCount']>60) & (mrDF['CCS']==False)]['type'].value_counts(sort=False)\n",
    "type_sample3_60 = sample_mrDF[(sample_mrDF['changesCount']>60)]['type'].value_counts(sort=False)\n",
    "type_60_df = pd.DataFrame({'Manual-Confusion': type_confusion_true_60,'CSS-False':type_css_false_60 ,'Sample3':type_sample3_60})\n",
    "\n",
    "type_60_df.plot.bar(rot=0)\n",
    "plt.title('Types of merge requests with more than 60 files changed')\n",
    "plt.xlabel(\"Type of merge requests\")\n",
    "plt.ylabel(\"No. of merge requests\")\n",
    "plt.show()\n",
    "type_60_df"
   ]
  },
  {
   "cell_type": "code",
   "execution_count": 11,
   "id": "5dc71804",
   "metadata": {},
   "outputs": [
    {
     "data": {
      "image/png": "[encoded data removed]",
      "text/plain": [
       "<Figure size 936x504 with 1 Axes>"
      ]
     },
     "metadata": {
      "needs_background": "light"
     },
     "output_type": "display_data"
    }
   ],
   "source": [
    "#checking the distribution of sonar_added from MR data\n",
    "confusion_data = pd.to_numeric(confusion_smell_df['sonar_added'])\n",
    "sample_data = pd.to_numeric(sample_mrDF['sonar_added'])\n",
    "bins=[0,0.1,5,10,15,20,25,30,35,max(max(confusion_data), max(sample_data))]\n",
    "out = pd.cut(confusion_data, bins, include_lowest=True)\n",
    "out2 = pd.cut(sample_data, bins, include_lowest=True)\n",
    "fig, ax = plt.subplots()\n",
    "df = pd.DataFrame({'Manual-Confusion': out.value_counts(sort=False), 'CSS-False-sampled':out2.value_counts(sort=False)})\n",
    "df.plot.bar(ax=ax, rot=0)\n",
    "plt.title('Sonar code smells added')\n",
    "plt.xlabel(\"No. of sonar smells added\")\n",
    "plt.ylabel(\"No. of merge requests\")\n",
    "confusion_mean = np.round(np.mean(confusion_data), 3)\n",
    "sample_mean = np.round(np.mean(sample_data), 3)\n",
    "ax.legend(['Confusion / Mean: '+str(confusion_mean), 'No-Confusion-Sample / Mean: '+str(sample_mean)])\n",
    "ax.set_xticklabels(['0','(0,5]','(5,10]', '(10,15]','(15,20]', '(20,25]', '(25,30]','(30,35]','(35,41]'])\n",
    "plt.yticks(np.arange(0, max(max(df['Manual-Confusion']),max(df['CSS-False-sampled']))+1, 2.0))\n",
    "\n",
    "plt.show()"
   ]
  },
  {
   "cell_type": "code",
   "execution_count": 286,
   "id": "7120637f",
   "metadata": {},
   "outputs": [
    {
     "data": {
      "image/png": "[encoded data removed]",
      "text/plain": [
       "<Figure size 936x504 with 1 Axes>"
      ]
     },
     "metadata": {
      "needs_background": "light"
     },
     "output_type": "display_data"
    }
   ],
   "source": [
    "#trying histogramog all sonar added with bell curve\n",
    "import numpy as np\n",
    "from scipy.stats import norm\n",
    "import matplotlib.pyplot as plt\n",
    "mu, std = norm.fit(mrDF[~mrDF['sonar_added'].isna()]['sonar_added']) \n",
    "plt.hist(mrDF[~mrDF['sonar_added'].isna()]['sonar_added'], bins=20, density=True, alpha=0.6, color='b')\n",
    "xmin, xmax = plt.xlim()\n",
    "x = np.linspace(xmin, xmax, 100)\n",
    "p = norm.pdf(x, mu, std)\n",
    "  \n",
    "plt.plot(x, p, 'k', linewidth=2)\n",
    "title = \"Fit Values: {:.2f} and {:.2f}\".format(mu, std)\n",
    "plt.title('Sonar code smell added distribution ' + title)\n",
    "plt.xlabel('No. of sonar code smells added')\n",
    "plt.ylabel('Frequency')\n",
    "plt.show()\n",
    "\n",
    "\n",
    "# confusion_smell_df[['sonar_added']].plot.hist(bins=20)"
   ]
  },
  {
   "cell_type": "code",
   "execution_count": 17,
   "id": "83713b55",
   "metadata": {},
   "outputs": [
    {
     "data": {
      "image/png": "[encoded data removed]",
      "text/plain": [
       "<Figure size 936x504 with 1 Axes>"
      ]
     },
     "metadata": {
      "needs_background": "light"
     },
     "output_type": "display_data"
    }
   ],
   "source": [
    "#checking the distribution of sonar_removed from MR data\n",
    "confusion_data = pd.to_numeric(confusion_smell_df['sonar_removed'])\n",
    "sample_data = pd.to_numeric(sample_mrDF['sonar_removed'])\n",
    "bins=[0,0.1,5,10,15,20,25,30,35,40,45,50,max(max(confusion_data), max(sample_data))]\n",
    "out = pd.cut(confusion_data, bins, include_lowest=True)\n",
    "out2 = pd.cut(sample_data, bins, include_lowest=True)\n",
    "fig, ax = plt.subplots()\n",
    "df = pd.DataFrame({'Manual-Confusion': out.value_counts(sort=False), 'CSS-False-sampled':out2.value_counts(sort=False)})\n",
    "df.plot.bar(ax=ax, rot=0)\n",
    "plt.title('Sonar code smells removed')\n",
    "plt.xlabel(\"No. of sonar smells removed\")\n",
    "plt.ylabel(\"No. of merge requests\")\n",
    "confusion_mean = np.round(np.mean(confusion_data), 3)\n",
    "sample_mean = np.round(np.mean(sample_data), 3)\n",
    "ax.legend(['Confusion / Mean: '+str(confusion_mean), 'No-Confusion-Sample / Mean: '+str(sample_mean)])\n",
    "ax.set_xticklabels(['0','(0,5]','(5,10]', '(10,15]','(15,20]', '(20,25]', '(25,30]','(30,35]','(35,40]','(40,45]','(45,50]','(50,51]'])\n",
    "plt.show()\n",
    "# print(out.value_counts(sort=False), out2.value_counts(sort=False))"
   ]
  },
  {
   "cell_type": "code",
   "execution_count": 293,
   "id": "d28112f6",
   "metadata": {},
   "outputs": [
    {
     "data": {
      "image/png": "[encoded data removed]",
      "text/plain": [
       "<Figure size 936x504 with 1 Axes>"
      ]
     },
     "metadata": {
      "needs_background": "light"
     },
     "output_type": "display_data"
    },
    {
     "name": "stdout",
     "output_type": "stream",
     "text": [
      "152.35443037974684 0.0\n"
     ]
    }
   ],
   "source": [
    "#checking the distribution of pmd_added from MR data\n",
    "confusion_data = pd.to_numeric(confusion_smell_df['pmd_added'])\n",
    "sample_data = pd.to_numeric(sample_mrDF['pmd_added'])\n",
    "bins=[0,0.1,20,max(max(confusion_data), max(sample_data))]\n",
    "out = pd.cut(confusion_data, bins, include_lowest=True)\n",
    "out2 = pd.cut(sample_data, bins, include_lowest=True)\n",
    "fig, ax = plt.subplots()\n",
    "df = pd.DataFrame({'Manual-Confusion': out.value_counts(sort=False), 'CSS-False-sampled':out2.value_counts(sort=False)})\n",
    "df.plot.bar(ax=ax, rot=0)\n",
    "plt.title('PMD code smells Added')\n",
    "plt.xlabel(\"No. of PMD smells added\")\n",
    "plt.ylabel(\"No. of merge requests\")\n",
    "confusion_mean = np.round(np.mean(confusion_data), 3)\n",
    "sample_mean = np.round(np.mean(sample_data), 3)\n",
    "ax.legend(['Manual Confusion / Mean: '+str(confusion_mean), 'No Confusion Sample / Mean: '+str(sample_mean)])\n",
    "plt.show()\n",
    "# print(out.value_counts(sort=False), out2.value_counts(sort=False))\n",
    "print(np.mean(confusion_data), np.mean(sample_data))"
   ]
  },
  {
   "cell_type": "code",
   "execution_count": 295,
   "id": "e03481bf",
   "metadata": {},
   "outputs": [
    {
     "data": {
      "image/png": "[encoded data removed]",
      "text/plain": [
       "<Figure size 936x504 with 1 Axes>"
      ]
     },
     "metadata": {
      "needs_background": "light"
     },
     "output_type": "display_data"
    },
    {
     "name": "stdout",
     "output_type": "stream",
     "text": [
      "126.81012658227849 0.0\n"
     ]
    }
   ],
   "source": [
    "#checking the distribution of pmd_removed from MR data\n",
    "confusion_data = pd.to_numeric(confusion_smell_df['pmd_removed'])\n",
    "sample_data = pd.to_numeric(sample_mrDF['pmd_removed'])\n",
    "bins=[0,0.1,20,max(max(confusion_data), max(sample_data))]\n",
    "out = pd.cut(confusion_data, bins, include_lowest=True)\n",
    "out2 = pd.cut(sample_data, bins, include_lowest=True)\n",
    "fig, ax = plt.subplots()\n",
    "df = pd.DataFrame({'Manual-Confusion': out.value_counts(sort=False), 'CSS-False-sampled':out2.value_counts(sort=False)})\n",
    "df.plot.bar(ax=ax, rot=0)\n",
    "plt.title('PMD code smells removed')\n",
    "plt.xlabel(\"No. of PMD smells removed\")\n",
    "plt.ylabel(\"No. of merge requests\")\n",
    "confusion_mean = np.round(np.mean(confusion_data), 3)\n",
    "sample_mean = np.round(np.mean(sample_data), 3)\n",
    "ax.legend(['Manual Confusion / Mean: '+str(confusion_mean), 'No Confusion Sample / Mean: '+str(sample_mean)])\n",
    "plt.show()\n",
    "# print(out.value_counts(sort=False), out2.value_counts(sort=False))\n",
    "print(np.mean(confusion_data), np.mean(sample_data))"
   ]
  },
  {
   "cell_type": "code",
   "execution_count": 296,
   "id": "e9bde493",
   "metadata": {},
   "outputs": [
    {
     "data": {
      "image/png": "[encoded data removed]",
      "text/plain": [
       "<Figure size 936x504 with 1 Axes>"
      ]
     },
     "metadata": {
      "needs_background": "light"
     },
     "output_type": "display_data"
    },
    {
     "name": "stdout",
     "output_type": "stream",
     "text": [
      "49.35443037974684 37.67088607594937\n"
     ]
    }
   ],
   "source": [
    "#checking the distribution of cpd_kotlin_added from MR data\n",
    "confusion_data = pd.to_numeric(confusion_smell_df['cpd_kotlin_added'])\n",
    "sample_data = pd.to_numeric(sample_mrDF['cpd_kotlin_added'])\n",
    "bins=[0,0.1,10,20,40,60,80,100,200,300,400,max(max(confusion_data), max(sample_data))]\n",
    "out = pd.cut(confusion_data, bins, include_lowest=True)\n",
    "out2 = pd.cut(sample_data, bins, include_lowest=True)\n",
    "fig, ax = plt.subplots()\n",
    "df = pd.DataFrame({'Manual-Confusion': out.value_counts(sort=False), 'CSS-False-sampled':out2.value_counts(sort=False)})\n",
    "df.plot.bar(ax=ax, rot=0)\n",
    "plt.title('CPD kotlin code smells Added')\n",
    "plt.xlabel(\"No. of CPD kotlin smells added\")\n",
    "plt.ylabel(\"No. of merge requests\")\n",
    "confusion_mean = np.round(np.mean(confusion_data), 3)\n",
    "sample_mean = np.round(np.mean(sample_data), 3)\n",
    "ax.legend(['Manual Confusion / Mean: '+str(confusion_mean), 'No Confusion Sample / Mean: '+str(sample_mean)])\n",
    "plt.show()\n",
    "# print(out.value_counts(sort=False), out2.value_counts(sort=False))\n",
    "print(np.mean(confusion_data), np.mean(sample_data))"
   ]
  },
  {
   "cell_type": "code",
   "execution_count": 297,
   "id": "f8b3f2a9",
   "metadata": {},
   "outputs": [
    {
     "data": {
      "image/png": "[encoded data removed]",
      "text/plain": [
       "<Figure size 936x504 with 1 Axes>"
      ]
     },
     "metadata": {
      "needs_background": "light"
     },
     "output_type": "display_data"
    },
    {
     "name": "stdout",
     "output_type": "stream",
     "text": [
      "46.78481012658228 37.63291139240506\n"
     ]
    }
   ],
   "source": [
    "#checking the distribution of cpd_kotlin_removed from MR data\n",
    "confusion_data = pd.to_numeric(confusion_smell_df['cpd_kotlin_removed'])\n",
    "sample_data = pd.to_numeric(sample_mrDF['cpd_kotlin_removed'])\n",
    "bins=[0,0.1,10,20,40,60,80,100,200,300,400,max(max(confusion_data), max(sample_data))]\n",
    "out = pd.cut(confusion_data, bins, include_lowest=True)\n",
    "out2 = pd.cut(sample_data, bins, include_lowest=True)\n",
    "fig, ax = plt.subplots()\n",
    "df = pd.DataFrame({'Manual-Confusion': out.value_counts(sort=False), 'CSS-False-sampled':out2.value_counts(sort=False)})\n",
    "df.plot.bar(ax=ax, rot=0)\n",
    "plt.title('CPD kotlin code smells removed')\n",
    "plt.xlabel(\"No. of CPD kotlin smells removed\")\n",
    "plt.ylabel(\"No. of merge requests\")\n",
    "confusion_mean = np.round(np.mean(confusion_data), 3)\n",
    "sample_mean = np.round(np.mean(sample_data), 3)\n",
    "ax.legend(['Manual Confusion / Mean: '+str(confusion_mean), 'No Confusion Sample / Mean: '+str(sample_mean)])\n",
    "plt.show()\n",
    "# print(out.value_counts(sort=False), out2.value_counts(sort=False))\n",
    "print(np.mean(confusion_data), np.mean(sample_data))"
   ]
  },
  {
   "cell_type": "code",
   "execution_count": 298,
   "id": "c627fadc",
   "metadata": {},
   "outputs": [
    {
     "data": {
      "image/png": "[encoded data removed]",
      "text/plain": [
       "<Figure size 936x504 with 1 Axes>"
      ]
     },
     "metadata": {
      "needs_background": "light"
     },
     "output_type": "display_data"
    },
    {
     "name": "stdout",
     "output_type": "stream",
     "text": [
      "4.594936708860759 1.860759493670886\n"
     ]
    }
   ],
   "source": [
    "#checking the distribution of cpd_added from MR data\n",
    "confusion_data = pd.to_numeric(confusion_smell_df['cpd_added'])\n",
    "sample_data = pd.to_numeric(sample_mrDF['cpd_added'])\n",
    "bins=[0,0.1,10,20,40,60,80,100,200,max(max(confusion_data), max(sample_data))]\n",
    "out = pd.cut(confusion_data, bins, include_lowest=True)\n",
    "out2 = pd.cut(sample_data, bins, include_lowest=True)\n",
    "fig, ax = plt.subplots()\n",
    "df = pd.DataFrame({'Manual-Confusion': out.value_counts(sort=False), 'CSS-False-sampled':out2.value_counts(sort=False)})\n",
    "df.plot.bar(ax=ax, rot=0)\n",
    "plt.title('CPD code smells Added')\n",
    "plt.xlabel(\"No. of CPD smells added\")\n",
    "plt.ylabel(\"No. of merge requests\")\n",
    "confusion_mean = np.round(np.mean(confusion_data), 3)\n",
    "sample_mean = np.round(np.mean(sample_data), 3)\n",
    "ax.legend(['Manual Confusion / Mean: '+str(confusion_mean), 'No Confusion Sample / Mean: '+str(sample_mean)])\n",
    "plt.show()\n",
    "plt.show()\n",
    "# print(out.value_counts(sort=False), out2.value_counts(sort=False))\n",
    "print(np.mean(confusion_data), np.mean(sample_data))"
   ]
  },
  {
   "cell_type": "code",
   "execution_count": 299,
   "id": "cf5575f6",
   "metadata": {},
   "outputs": [
    {
     "data": {
      "image/png": "[encoded data removed]",
      "text/plain": [
       "<Figure size 936x504 with 1 Axes>"
      ]
     },
     "metadata": {
      "needs_background": "light"
     },
     "output_type": "display_data"
    },
    {
     "name": "stdout",
     "output_type": "stream",
     "text": [
      "4.341772151898734 7.227848101265823\n"
     ]
    }
   ],
   "source": [
    "#checking the distribution of cpd_removed from MR data\n",
    "confusion_data = pd.to_numeric(confusion_smell_df['cpd_removed'])\n",
    "sample_data = pd.to_numeric(sample_mrDF['cpd_removed'])\n",
    "bins=[0,0.1,10,20,40,60,80,100,200,max(max(confusion_data), max(sample_data))]\n",
    "out = pd.cut(confusion_data, bins, include_lowest=True)\n",
    "out2 = pd.cut(sample_data, bins, include_lowest=True)\n",
    "fig, ax = plt.subplots()\n",
    "df = pd.DataFrame({'Manual-Confusion': out.value_counts(sort=False), 'CSS-False-sampled':out2.value_counts(sort=False)})\n",
    "df.plot.bar(ax=ax, rot=0)\n",
    "plt.title('CPD code smells removed')\n",
    "plt.xlabel(\"No. of CPD smells removed\")\n",
    "plt.ylabel(\"No. of merge requests\")\n",
    "confusion_mean = np.round(np.mean(confusion_data), 3)\n",
    "sample_mean = np.round(np.mean(sample_data), 3)\n",
    "ax.legend(['Manual Confusion / Mean: '+str(confusion_mean), 'No Confusion Sample / Mean: '+str(sample_mean)])\n",
    "plt.show()\n",
    "plt.show()\n",
    "# print(out.value_counts(sort=False), out2.value_counts(sort=False))\n",
    "print(np.mean(confusion_data), np.mean(sample_data))"
   ]
  },
  {
   "cell_type": "code",
   "execution_count": 3,
   "id": "63161521",
   "metadata": {
    "collapsed": true
   },
   "outputs": [
    {
     "ename": "NameError",
     "evalue": "name 'mrDF' is not defined",
     "output_type": "error",
     "traceback": [
      "\u001b[1;31m---------------------------------------------------------------------------\u001b[0m",
      "\u001b[1;31mNameError\u001b[0m                                 Traceback (most recent call last)",
      "\u001b[1;32mC:\\Users\\MAYUR~1.WAG\\AppData\\Local\\Temp/ipykernel_20700/341431864.py\u001b[0m in \u001b[0;36m<module>\u001b[1;34m\u001b[0m\n\u001b[1;32m----> 1\u001b[1;33m \u001b[0mmrDF\u001b[0m\u001b[1;33m.\u001b[0m\u001b[0mto_excel\u001b[0m\u001b[1;33m(\u001b[0m\u001b[1;34m'final_data/Final_all_mr_smells_data.xlsx'\u001b[0m\u001b[1;33m)\u001b[0m\u001b[1;33m\u001b[0m\u001b[1;33m\u001b[0m\u001b[0m\n\u001b[0m\u001b[0;32m      2\u001b[0m \u001b[0msample_mrDF\u001b[0m\u001b[1;33m.\u001b[0m\u001b[0mto_excel\u001b[0m\u001b[1;33m(\u001b[0m\u001b[1;34m'final_data/Final_sample_mr_smells_data.xlsx'\u001b[0m\u001b[1;33m)\u001b[0m\u001b[1;33m\u001b[0m\u001b[1;33m\u001b[0m\u001b[0m\n\u001b[0;32m      3\u001b[0m \u001b[0mmanual_label\u001b[0m\u001b[1;33m.\u001b[0m\u001b[0mto_excel\u001b[0m\u001b[1;33m(\u001b[0m\u001b[1;34m'final_data/Final_manual_mr_data.xlsx'\u001b[0m\u001b[1;33m)\u001b[0m\u001b[1;33m\u001b[0m\u001b[1;33m\u001b[0m\u001b[0m\n\u001b[0;32m      4\u001b[0m \u001b[0mconfusion_smell_df\u001b[0m\u001b[1;33m.\u001b[0m\u001b[0mto_excel\u001b[0m\u001b[1;33m(\u001b[0m\u001b[1;34m'final_data/Final_manual_mr_smells_data.xlsx'\u001b[0m\u001b[1;33m)\u001b[0m\u001b[1;33m\u001b[0m\u001b[1;33m\u001b[0m\u001b[0m\n",
      "\u001b[1;31mNameError\u001b[0m: name 'mrDF' is not defined"
     ]
    }
   ],
   "source": [
    "mrDF.to_excel('final_data/Final_all_mr_smells_data.xlsx')\n",
    "sample_mrDF.to_excel('final_data/Final_sample_mr_smells_data.xlsx')\n",
    "manual_label.to_excel('final_data/Final_manual_mr_data.xlsx')\n",
    "confusion_smell_df.to_excel('final_data/Final_manual_mr_smells_data.xlsx')"
   ]
  },
  {
   "cell_type": "code",
   "execution_count": 14,
   "id": "c1920eff",
   "metadata": {},
   "outputs": [],
   "source": [
    "import pandas as pd\n",
    "confusion_smell_df = pd.read_excel('final_data/Final_manual_labels_mr_data.xlsx')\n",
    "# confusion_smell_df = confusion_smell_df.fillna(0)"
   ]
  },
  {
   "cell_type": "code",
   "execution_count": 15,
   "id": "970834af",
   "metadata": {},
   "outputs": [
    {
     "data": {
      "image/png": "[encoded data removed]",
      "text/plain": [
       "<Figure size 936x504 with 1 Axes>"
      ]
     },
     "metadata": {
      "needs_background": "light"
     },
     "output_type": "display_data"
    }
   ],
   "source": [
    "plt.rcParams[\"figure.figsize\"] = [13, 7]\n",
    "plt.rcParams[\"figure.autolayout\"] = True\n",
    "#checking the distribution of sonar_removed from MR data\n",
    "confusion_data = pd.to_numeric(confusion_smell_df['sonar_added'])\n",
    "bins=[0,0.1,5,10,15,20,25,30,35,max(confusion_data)]\n",
    "out = pd.cut(confusion_data, bins, include_lowest=True)\n",
    "fig, ax = plt.subplots()\n",
    "df = pd.DataFrame({'Manual-Confusion': out.value_counts(sort=False)})\n",
    "df.plot.bar(ax=ax, rot=0)\n",
    "plt.title('Sonar code smells added')\n",
    "plt.xlabel(\"No. of sonar smells added\")\n",
    "plt.ylabel(\"No. of merge requests\")\n",
    "confusion_mean = np.round(np.mean(confusion_data), 3)\n",
    "ax.legend(['Confusion / Mean: '+str(confusion_mean)])\n",
    "ax.set_xticklabels(['0','(0,5]','(5,10]', '(10,15]','(15,20]', '(20,25]', '(25,30]','(30,35]','(35,39]'])\n",
    "plt.yticks(np.arange(0, max(df['Manual-Confusion'])+1, 2.0))\n",
    "plt.show()\n",
    "# print(out.value_counts(sort=False), out2.value_counts(sort=False))"
   ]
  },
  {
   "cell_type": "code",
   "execution_count": 16,
   "id": "ecaf2973",
   "metadata": {},
   "outputs": [],
   "source": [
    "mrDF = pd.read_excel('final_data/all_merge_requests_with_manual_labelling_and_code_smells_data.xlsx')\n",
    "sample_mrDF = pd.read_excel('final_data/Merge_request_sample_no_confusion_smells_data.xlsx')"
   ]
  },
  {
   "cell_type": "code",
   "execution_count": 12,
   "id": "2c37cbeb",
   "metadata": {},
   "outputs": [
    {
     "data": {
      "image/png": "[encoded data removed]",
      "text/plain": [
       "<Figure size 936x504 with 1 Axes>"
      ]
     },
     "metadata": {
      "needs_background": "light"
     },
     "output_type": "display_data"
    },
    {
     "data": {
      "text/html": [
       "<div>\n",
       "<style scoped>\n",
       "    .dataframe tbody tr th:only-of-type {\n",
       "        vertical-align: middle;\n",
       "    }\n",
       "\n",
       "    .dataframe tbody tr th {\n",
       "        vertical-align: top;\n",
       "    }\n",
       "\n",
       "    .dataframe thead th {\n",
       "        text-align: right;\n",
       "    }\n",
       "</style>\n",
       "<table border=\"1\" class=\"dataframe\">\n",
       "  <thead>\n",
       "    <tr style=\"text-align: right;\">\n",
       "      <th></th>\n",
       "      <th>Confusion</th>\n",
       "      <th>No-Confusion</th>\n",
       "      <th>No-Confusion-Sample</th>\n",
       "    </tr>\n",
       "  </thead>\n",
       "  <tbody>\n",
       "    <tr>\n",
       "      <th>(-0.001, 30.0]</th>\n",
       "      <td>91</td>\n",
       "      <td>290</td>\n",
       "      <td>55</td>\n",
       "    </tr>\n",
       "    <tr>\n",
       "      <th>(30.0, 60.0]</th>\n",
       "      <td>21</td>\n",
       "      <td>20</td>\n",
       "      <td>17</td>\n",
       "    </tr>\n",
       "    <tr>\n",
       "      <th>(60.0, 1126.0]</th>\n",
       "      <td>13</td>\n",
       "      <td>15</td>\n",
       "      <td>7</td>\n",
       "    </tr>\n",
       "  </tbody>\n",
       "</table>\n",
       "</div>"
      ],
      "text/plain": [
       "                Confusion  No-Confusion  No-Confusion-Sample\n",
       "(-0.001, 30.0]         91           290                   55\n",
       "(30.0, 60.0]           21            20                   17\n",
       "(60.0, 1126.0]         13            15                    7"
      ]
     },
     "execution_count": 12,
     "metadata": {},
     "output_type": "execute_result"
    },
    {
     "data": {
      "text/plain": [
       "<Figure size 936x504 with 0 Axes>"
      ]
     },
     "metadata": {},
     "output_type": "display_data"
    }
   ],
   "source": [
    "#checking the distribution of changesCount from manual true confusion and CSS false \n",
    "data= pd.to_numeric(confusion_smell_df['changesCount'])\n",
    "bins = [0,30,60,max(mrDF['changesCount'])]\n",
    "out = pd.cut(data, bins, include_lowest=True)\n",
    "data2 = pd.to_numeric(mrDF[(mrDF['CCS']==False)]['changesCount'])\n",
    "out2 = pd.cut(data2, bins, include_lowest=True)\n",
    "sampled_data = pd.to_numeric(sample_mrDF['changesCount'])\n",
    "out3 = pd.cut(sampled_data, bins, include_lowest=True)\n",
    "\n",
    "df = pd.DataFrame({'Confusion': out.value_counts(sort=False), 'No-Confusion':out2.value_counts(sort=False), 'No-Confusion-Sample':out3.value_counts(sort=False)})\n",
    "df.plot.bar(rot=0)\n",
    "plt.title('No. of merge requests with files changed')\n",
    "plt.xlabel(\"No. of files changed\")\n",
    "plt.ylabel(\"No. of merge requests\")\n",
    "plt.show()\n",
    "plt.savefig('books_read.png')\n",
    "df"
   ]
  },
  {
   "cell_type": "code",
   "execution_count": 334,
   "id": "d8ff4091",
   "metadata": {},
   "outputs": [],
   "source": [
    "sonar_list = os.listdir('./SonarReport/')\n",
    "added_smell_details_DF = pd.DataFrame(columns=['MRIID','Rule key'])\n",
    "for MRIID in confusion_MRIID:\n",
    "    sonar_after_file = [k for k in sonar_list if str(MRIID) in k.split('-') and 'after' in k]\n",
    "    sonar_before_file = [k for k in sonar_list if str(MRIID) in k.split('-') and 'before' in k]\n",
    "    if(len(sonar_after_file)==1 and len(sonar_before_file)==1):\n",
    "        before = pd.read_excel('./SonarReport/'+sonar_before_file[0])\n",
    "        after = pd.read_excel('./SonarReport/'+sonar_after_file[0])\n",
    "        before['Count'] = 1\n",
    "        before = before.groupby(['Resource','Date','Description','Path','Rule key','Server issue key'],dropna=False).Count.count().reset_index().drop_duplicates()\n",
    "        after['Count'] = 1\n",
    "        after = after.groupby(['Resource','Date','Description','Path','Rule key','Server issue key'],dropna=False).Count.count().reset_index().drop_duplicates()\n",
    "        df = pd.merge(before, after, on=['Resource','Description','Path','Rule key','Server issue key'], how=\"outer\", indicator=True)\n",
    "        df['Count_x'] = df['Count_x'].fillna(0)\n",
    "        df['Count_y'] = df['Count_y'].fillna(0)\n",
    "        smells_removed = sum(df[df['Count_x']>df['Count_y']]['Count_x'] - df[df['Count_x']>df['Count_y']]['Count_y'])\n",
    "        \n",
    "        smells_added = sum(df[df['Count_x']<df['Count_y']]['Count_y'] - df[df['Count_x']<df['Count_y']]['Count_x'])\n",
    "        for I,row in df[df['Count_x']<df['Count_y']].iterrows():\n",
    "            for i in range(int(row['Count_y']-row['Count_x'])):\n",
    "                added_smell_details_DF.loc[len(added_smell_details_DF)] = [MRIID, row['Rule key']]\n",
    "        \n",
    "        smells_existed = sum(df[df['Count_x']==df['Count_y']]['Count_x']) + sum(df[df['Count_x']<df['Count_y']]['Count_x']) + sum(df[df['Count_x']>df['Count_y']]['Count_y'])"
   ]
  },
  {
   "cell_type": "code",
   "execution_count": 343,
   "id": "afcb54cb",
   "metadata": {
    "scrolled": false
   },
   "outputs": [
    {
     "data": {
      "image/png": "[encoded data removed]",
      "text/plain": [
       "<Figure size 936x504 with 1 Axes>"
      ]
     },
     "metadata": {
      "needs_background": "light"
     },
     "output_type": "display_data"
    }
   ],
   "source": [
    "fig, ax = plt.subplots()\n",
    "added_smell_details_DF[\"Rule key\"].value_counts().plot(ax=ax, kind='bar')\n",
    "plt.xlabel('Code smell')\n",
    "plt.ylabel('Frequency')\n",
    "plt.title('Types of sonar code smells added in confusion group')\n",
    "plt.show()"
   ]
  },
  {
   "cell_type": "code",
   "execution_count": 336,
   "id": "828dd151",
   "metadata": {},
   "outputs": [],
   "source": [
    "added_smell_sample_details_DF = pd.DataFrame(columns=['MRIID','Rule key'])\n",
    "sonar_list = os.listdir('./SonarReport_sample/')\n",
    "for MRIID in sample_MRIID:\n",
    "    sonar_after_file = [k for k in sonar_list if str(MRIID) in k.split('-') and 'after' in k]\n",
    "    sonar_before_file = [k for k in sonar_list if str(MRIID) in k.split('-') and 'before' in k]\n",
    "    if(len(sonar_after_file)==1 and len(sonar_before_file)==1):\n",
    "        before = pd.read_excel('./SonarReport_sample/'+sonar_before_file[0])\n",
    "        after = pd.read_excel('./SonarReport_sample/'+sonar_after_file[0])\n",
    "        before['Count'] = 1\n",
    "        before = before.groupby(['Resource','Date','Description','Path','Rule key','Server issue key'],dropna=False).Count.count().reset_index().drop_duplicates()\n",
    "        after['Count'] = 1\n",
    "        after = after.groupby(['Resource','Date','Description','Path','Rule key','Server issue key'],dropna=False).Count.count().reset_index().drop_duplicates()\n",
    "        df = pd.merge(before, after, on=['Resource','Description','Path','Rule key','Server issue key'], how=\"outer\", indicator=True)\n",
    "        df['Count_x'] = df['Count_x'].fillna(0)\n",
    "        df['Count_y'] = df['Count_y'].fillna(0)\n",
    "        smells_removed = sum(df[df['Count_x']>df['Count_y']]['Count_x'] - df[df['Count_x']>df['Count_y']]['Count_y'])\n",
    "        smells_added = sum(df[df['Count_x']<df['Count_y']]['Count_y'] - df[df['Count_x']<df['Count_y']]['Count_x'])\n",
    "        \n",
    "        for I,row in df[df['Count_x']<df['Count_y']].iterrows():\n",
    "            for i in range(int(row['Count_y']-row['Count_x'])):\n",
    "                added_smell_sample_details_DF.loc[len(added_smell_sample_details_DF)] = [MRIID, row['Rule key']]\n",
    "        \n",
    "        smells_existed = sum(df[df['Count_x']==df['Count_y']]['Count_x']) + sum(df[df['Count_x']<df['Count_y']]['Count_x']) + sum(df[df['Count_x']>df['Count_y']]['Count_y'])"
   ]
  },
  {
   "cell_type": "code",
   "execution_count": 344,
   "id": "ed66412c",
   "metadata": {},
   "outputs": [
    {
     "data": {
      "image/png": "[encoded data removed]",
      "text/plain": [
       "<Figure size 936x504 with 1 Axes>"
      ]
     },
     "metadata": {
      "needs_background": "light"
     },
     "output_type": "display_data"
    }
   ],
   "source": [
    "fig, ax = plt.subplots()\n",
    "added_smell_sample_details_DF[\"Rule key\"].value_counts().plot(ax=ax, kind='bar')\n",
    "plt.xlabel('Code smell')\n",
    "plt.ylabel('Frequency')\n",
    "plt.title('Types of sonar code smells added in No confusion sample group')\n",
    "plt.show()"
   ]
  },
  {
   "cell_type": "code",
   "execution_count": 351,
   "id": "81581f29",
   "metadata": {},
   "outputs": [],
   "source": [
    "confusion_added_smell_details = added_smell_details_DF[\"Rule key\"].value_counts().rename_axis('Rule key').reset_index(name='counts')\n",
    "No_confusion_added_smell_details = added_smell_sample_details_DF[\"Rule key\"].value_counts().rename_axis('Rule key').reset_index(name='counts')"
   ]
  },
  {
   "cell_type": "code",
   "execution_count": 360,
   "id": "ba22d804",
   "metadata": {},
   "outputs": [
    {
     "data": {
      "text/html": [
       "<div>\n",
       "<style scoped>\n",
       "    .dataframe tbody tr th:only-of-type {\n",
       "        vertical-align: middle;\n",
       "    }\n",
       "\n",
       "    .dataframe tbody tr th {\n",
       "        vertical-align: top;\n",
       "    }\n",
       "\n",
       "    .dataframe thead th {\n",
       "        text-align: right;\n",
       "    }\n",
       "</style>\n",
       "<table border=\"1\" class=\"dataframe\">\n",
       "  <thead>\n",
       "    <tr style=\"text-align: right;\">\n",
       "      <th></th>\n",
       "      <th>Rule key</th>\n",
       "      <th>counts_x</th>\n",
       "      <th>counts_y</th>\n",
       "      <th>_merge</th>\n",
       "    </tr>\n",
       "  </thead>\n",
       "  <tbody>\n",
       "    <tr>\n",
       "      <th>0</th>\n",
       "      <td>java:S2209</td>\n",
       "      <td>342.0</td>\n",
       "      <td>395.0</td>\n",
       "      <td>both</td>\n",
       "    </tr>\n",
       "    <tr>\n",
       "      <th>1</th>\n",
       "      <td>java:S125</td>\n",
       "      <td>277.0</td>\n",
       "      <td>188.0</td>\n",
       "      <td>both</td>\n",
       "    </tr>\n",
       "    <tr>\n",
       "      <th>2</th>\n",
       "      <td>secrets:S6334</td>\n",
       "      <td>234.0</td>\n",
       "      <td>117.0</td>\n",
       "      <td>both</td>\n",
       "    </tr>\n",
       "    <tr>\n",
       "      <th>3</th>\n",
       "      <td>xml:S1135</td>\n",
       "      <td>170.0</td>\n",
       "      <td>146.0</td>\n",
       "      <td>both</td>\n",
       "    </tr>\n",
       "    <tr>\n",
       "      <th>4</th>\n",
       "      <td>kotlin:S1186</td>\n",
       "      <td>152.0</td>\n",
       "      <td>4.0</td>\n",
       "      <td>both</td>\n",
       "    </tr>\n",
       "    <tr>\n",
       "      <th>5</th>\n",
       "      <td>kotlin:S1135</td>\n",
       "      <td>49.0</td>\n",
       "      <td>51.0</td>\n",
       "      <td>both</td>\n",
       "    </tr>\n",
       "    <tr>\n",
       "      <th>6</th>\n",
       "      <td>xml:S125</td>\n",
       "      <td>34.0</td>\n",
       "      <td>31.0</td>\n",
       "      <td>both</td>\n",
       "    </tr>\n",
       "    <tr>\n",
       "      <th>7</th>\n",
       "      <td>kotlin:S3776</td>\n",
       "      <td>7.0</td>\n",
       "      <td>3.0</td>\n",
       "      <td>both</td>\n",
       "    </tr>\n",
       "    <tr>\n",
       "      <th>8</th>\n",
       "      <td>java:S1192</td>\n",
       "      <td>5.0</td>\n",
       "      <td>6.0</td>\n",
       "      <td>both</td>\n",
       "    </tr>\n",
       "    <tr>\n",
       "      <th>9</th>\n",
       "      <td>java:S1133</td>\n",
       "      <td>4.0</td>\n",
       "      <td>0.0</td>\n",
       "      <td>left_only</td>\n",
       "    </tr>\n",
       "    <tr>\n",
       "      <th>10</th>\n",
       "      <td>java:S1123</td>\n",
       "      <td>4.0</td>\n",
       "      <td>0.0</td>\n",
       "      <td>left_only</td>\n",
       "    </tr>\n",
       "    <tr>\n",
       "      <th>11</th>\n",
       "      <td>java:S1444</td>\n",
       "      <td>3.0</td>\n",
       "      <td>0.0</td>\n",
       "      <td>left_only</td>\n",
       "    </tr>\n",
       "    <tr>\n",
       "      <th>12</th>\n",
       "      <td>java:S1104</td>\n",
       "      <td>3.0</td>\n",
       "      <td>0.0</td>\n",
       "      <td>left_only</td>\n",
       "    </tr>\n",
       "    <tr>\n",
       "      <th>13</th>\n",
       "      <td>java:S1170</td>\n",
       "      <td>3.0</td>\n",
       "      <td>0.0</td>\n",
       "      <td>left_only</td>\n",
       "    </tr>\n",
       "    <tr>\n",
       "      <th>14</th>\n",
       "      <td>java:S1128</td>\n",
       "      <td>3.0</td>\n",
       "      <td>3.0</td>\n",
       "      <td>both</td>\n",
       "    </tr>\n",
       "    <tr>\n",
       "      <th>15</th>\n",
       "      <td>kotlin:S1066</td>\n",
       "      <td>3.0</td>\n",
       "      <td>1.0</td>\n",
       "      <td>both</td>\n",
       "    </tr>\n",
       "    <tr>\n",
       "      <th>16</th>\n",
       "      <td>kotlin:S1144</td>\n",
       "      <td>3.0</td>\n",
       "      <td>1.0</td>\n",
       "      <td>both</td>\n",
       "    </tr>\n",
       "    <tr>\n",
       "      <th>17</th>\n",
       "      <td>kotlin:S1481</td>\n",
       "      <td>2.0</td>\n",
       "      <td>2.0</td>\n",
       "      <td>both</td>\n",
       "    </tr>\n",
       "    <tr>\n",
       "      <th>18</th>\n",
       "      <td>kotlin:S4144</td>\n",
       "      <td>2.0</td>\n",
       "      <td>0.0</td>\n",
       "      <td>left_only</td>\n",
       "    </tr>\n",
       "    <tr>\n",
       "      <th>19</th>\n",
       "      <td>kotlin:S125</td>\n",
       "      <td>2.0</td>\n",
       "      <td>4.0</td>\n",
       "      <td>both</td>\n",
       "    </tr>\n",
       "    <tr>\n",
       "      <th>20</th>\n",
       "      <td>java:S1068</td>\n",
       "      <td>2.0</td>\n",
       "      <td>2.0</td>\n",
       "      <td>both</td>\n",
       "    </tr>\n",
       "    <tr>\n",
       "      <th>21</th>\n",
       "      <td>kotlin:S1134</td>\n",
       "      <td>2.0</td>\n",
       "      <td>7.0</td>\n",
       "      <td>both</td>\n",
       "    </tr>\n",
       "    <tr>\n",
       "      <th>22</th>\n",
       "      <td>kotlin:S1172</td>\n",
       "      <td>2.0</td>\n",
       "      <td>2.0</td>\n",
       "      <td>both</td>\n",
       "    </tr>\n",
       "    <tr>\n",
       "      <th>23</th>\n",
       "      <td>kotlin:S1871</td>\n",
       "      <td>1.0</td>\n",
       "      <td>0.0</td>\n",
       "      <td>left_only</td>\n",
       "    </tr>\n",
       "    <tr>\n",
       "      <th>24</th>\n",
       "      <td>java:S1118</td>\n",
       "      <td>1.0</td>\n",
       "      <td>0.0</td>\n",
       "      <td>left_only</td>\n",
       "    </tr>\n",
       "    <tr>\n",
       "      <th>25</th>\n",
       "      <td>kotlin:S1862</td>\n",
       "      <td>1.0</td>\n",
       "      <td>1.0</td>\n",
       "      <td>both</td>\n",
       "    </tr>\n",
       "    <tr>\n",
       "      <th>26</th>\n",
       "      <td>kotlin:S107</td>\n",
       "      <td>1.0</td>\n",
       "      <td>11.0</td>\n",
       "      <td>both</td>\n",
       "    </tr>\n",
       "    <tr>\n",
       "      <th>27</th>\n",
       "      <td>kotlin:S100</td>\n",
       "      <td>0.0</td>\n",
       "      <td>8.0</td>\n",
       "      <td>right_only</td>\n",
       "    </tr>\n",
       "    <tr>\n",
       "      <th>28</th>\n",
       "      <td>kotlin:S1479</td>\n",
       "      <td>0.0</td>\n",
       "      <td>2.0</td>\n",
       "      <td>right_only</td>\n",
       "    </tr>\n",
       "    <tr>\n",
       "      <th>29</th>\n",
       "      <td>xml:S1134</td>\n",
       "      <td>0.0</td>\n",
       "      <td>2.0</td>\n",
       "      <td>right_only</td>\n",
       "    </tr>\n",
       "    <tr>\n",
       "      <th>30</th>\n",
       "      <td>java:S5411</td>\n",
       "      <td>0.0</td>\n",
       "      <td>2.0</td>\n",
       "      <td>right_only</td>\n",
       "    </tr>\n",
       "    <tr>\n",
       "      <th>31</th>\n",
       "      <td>kotlin:S1110</td>\n",
       "      <td>0.0</td>\n",
       "      <td>1.0</td>\n",
       "      <td>right_only</td>\n",
       "    </tr>\n",
       "    <tr>\n",
       "      <th>32</th>\n",
       "      <td>java:S2094</td>\n",
       "      <td>0.0</td>\n",
       "      <td>1.0</td>\n",
       "      <td>right_only</td>\n",
       "    </tr>\n",
       "    <tr>\n",
       "      <th>33</th>\n",
       "      <td>java:S6212</td>\n",
       "      <td>0.0</td>\n",
       "      <td>1.0</td>\n",
       "      <td>right_only</td>\n",
       "    </tr>\n",
       "    <tr>\n",
       "      <th>34</th>\n",
       "      <td>java:S2440</td>\n",
       "      <td>0.0</td>\n",
       "      <td>1.0</td>\n",
       "      <td>right_only</td>\n",
       "    </tr>\n",
       "  </tbody>\n",
       "</table>\n",
       "</div>"
      ],
      "text/plain": [
       "         Rule key  counts_x  counts_y      _merge\n",
       "0      java:S2209     342.0     395.0        both\n",
       "1       java:S125     277.0     188.0        both\n",
       "2   secrets:S6334     234.0     117.0        both\n",
       "3       xml:S1135     170.0     146.0        both\n",
       "4    kotlin:S1186     152.0       4.0        both\n",
       "5    kotlin:S1135      49.0      51.0        both\n",
       "6        xml:S125      34.0      31.0        both\n",
       "7    kotlin:S3776       7.0       3.0        both\n",
       "8      java:S1192       5.0       6.0        both\n",
       "9      java:S1133       4.0       0.0   left_only\n",
       "10     java:S1123       4.0       0.0   left_only\n",
       "11     java:S1444       3.0       0.0   left_only\n",
       "12     java:S1104       3.0       0.0   left_only\n",
       "13     java:S1170       3.0       0.0   left_only\n",
       "14     java:S1128       3.0       3.0        both\n",
       "15   kotlin:S1066       3.0       1.0        both\n",
       "16   kotlin:S1144       3.0       1.0        both\n",
       "17   kotlin:S1481       2.0       2.0        both\n",
       "18   kotlin:S4144       2.0       0.0   left_only\n",
       "19    kotlin:S125       2.0       4.0        both\n",
       "20     java:S1068       2.0       2.0        both\n",
       "21   kotlin:S1134       2.0       7.0        both\n",
       "22   kotlin:S1172       2.0       2.0        both\n",
       "23   kotlin:S1871       1.0       0.0   left_only\n",
       "24     java:S1118       1.0       0.0   left_only\n",
       "25   kotlin:S1862       1.0       1.0        both\n",
       "26    kotlin:S107       1.0      11.0        both\n",
       "27    kotlin:S100       0.0       8.0  right_only\n",
       "28   kotlin:S1479       0.0       2.0  right_only\n",
       "29      xml:S1134       0.0       2.0  right_only\n",
       "30     java:S5411       0.0       2.0  right_only\n",
       "31   kotlin:S1110       0.0       1.0  right_only\n",
       "32     java:S2094       0.0       1.0  right_only\n",
       "33     java:S6212       0.0       1.0  right_only\n",
       "34     java:S2440       0.0       1.0  right_only"
      ]
     },
     "execution_count": 360,
     "metadata": {},
     "output_type": "execute_result"
    }
   ],
   "source": [
    "all_smell_details = pd.merge(confusion_added_smell_details, No_confusion_added_smell_details, on=['Rule key'], how=\"outer\", indicator=True)\n",
    "# all_smell_details = all_smell_details.fillna(0)\n",
    "all_smell_details['counts_x'] = all_smell_details['counts_x'].fillna(0)\n",
    "all_smell_details['counts_y'] = all_smell_details['counts_y'].fillna(0)\n",
    "all_smell_details"
   ]
  },
  {
   "cell_type": "code",
   "execution_count": 361,
   "id": "06c76593",
   "metadata": {},
   "outputs": [
    {
     "data": {
      "text/html": [
       "<div>\n",
       "<style scoped>\n",
       "    .dataframe tbody tr th:only-of-type {\n",
       "        vertical-align: middle;\n",
       "    }\n",
       "\n",
       "    .dataframe tbody tr th {\n",
       "        vertical-align: top;\n",
       "    }\n",
       "\n",
       "    .dataframe thead th {\n",
       "        text-align: right;\n",
       "    }\n",
       "</style>\n",
       "<table border=\"1\" class=\"dataframe\">\n",
       "  <thead>\n",
       "    <tr style=\"text-align: right;\">\n",
       "      <th></th>\n",
       "      <th>Rule key</th>\n",
       "      <th>counts_x</th>\n",
       "      <th>counts_y</th>\n",
       "      <th>_merge</th>\n",
       "    </tr>\n",
       "  </thead>\n",
       "  <tbody>\n",
       "    <tr>\n",
       "      <th>1</th>\n",
       "      <td>java:S125</td>\n",
       "      <td>277.0</td>\n",
       "      <td>188.0</td>\n",
       "      <td>both</td>\n",
       "    </tr>\n",
       "    <tr>\n",
       "      <th>2</th>\n",
       "      <td>secrets:S6334</td>\n",
       "      <td>234.0</td>\n",
       "      <td>117.0</td>\n",
       "      <td>both</td>\n",
       "    </tr>\n",
       "    <tr>\n",
       "      <th>3</th>\n",
       "      <td>xml:S1135</td>\n",
       "      <td>170.0</td>\n",
       "      <td>146.0</td>\n",
       "      <td>both</td>\n",
       "    </tr>\n",
       "    <tr>\n",
       "      <th>4</th>\n",
       "      <td>kotlin:S1186</td>\n",
       "      <td>152.0</td>\n",
       "      <td>4.0</td>\n",
       "      <td>both</td>\n",
       "    </tr>\n",
       "    <tr>\n",
       "      <th>6</th>\n",
       "      <td>xml:S125</td>\n",
       "      <td>34.0</td>\n",
       "      <td>31.0</td>\n",
       "      <td>both</td>\n",
       "    </tr>\n",
       "    <tr>\n",
       "      <th>7</th>\n",
       "      <td>kotlin:S3776</td>\n",
       "      <td>7.0</td>\n",
       "      <td>3.0</td>\n",
       "      <td>both</td>\n",
       "    </tr>\n",
       "    <tr>\n",
       "      <th>9</th>\n",
       "      <td>java:S1133</td>\n",
       "      <td>4.0</td>\n",
       "      <td>0.0</td>\n",
       "      <td>left_only</td>\n",
       "    </tr>\n",
       "    <tr>\n",
       "      <th>10</th>\n",
       "      <td>java:S1123</td>\n",
       "      <td>4.0</td>\n",
       "      <td>0.0</td>\n",
       "      <td>left_only</td>\n",
       "    </tr>\n",
       "    <tr>\n",
       "      <th>11</th>\n",
       "      <td>java:S1444</td>\n",
       "      <td>3.0</td>\n",
       "      <td>0.0</td>\n",
       "      <td>left_only</td>\n",
       "    </tr>\n",
       "    <tr>\n",
       "      <th>12</th>\n",
       "      <td>java:S1104</td>\n",
       "      <td>3.0</td>\n",
       "      <td>0.0</td>\n",
       "      <td>left_only</td>\n",
       "    </tr>\n",
       "    <tr>\n",
       "      <th>13</th>\n",
       "      <td>java:S1170</td>\n",
       "      <td>3.0</td>\n",
       "      <td>0.0</td>\n",
       "      <td>left_only</td>\n",
       "    </tr>\n",
       "    <tr>\n",
       "      <th>15</th>\n",
       "      <td>kotlin:S1066</td>\n",
       "      <td>3.0</td>\n",
       "      <td>1.0</td>\n",
       "      <td>both</td>\n",
       "    </tr>\n",
       "    <tr>\n",
       "      <th>16</th>\n",
       "      <td>kotlin:S1144</td>\n",
       "      <td>3.0</td>\n",
       "      <td>1.0</td>\n",
       "      <td>both</td>\n",
       "    </tr>\n",
       "    <tr>\n",
       "      <th>18</th>\n",
       "      <td>kotlin:S4144</td>\n",
       "      <td>2.0</td>\n",
       "      <td>0.0</td>\n",
       "      <td>left_only</td>\n",
       "    </tr>\n",
       "    <tr>\n",
       "      <th>23</th>\n",
       "      <td>kotlin:S1871</td>\n",
       "      <td>1.0</td>\n",
       "      <td>0.0</td>\n",
       "      <td>left_only</td>\n",
       "    </tr>\n",
       "    <tr>\n",
       "      <th>24</th>\n",
       "      <td>java:S1118</td>\n",
       "      <td>1.0</td>\n",
       "      <td>0.0</td>\n",
       "      <td>left_only</td>\n",
       "    </tr>\n",
       "  </tbody>\n",
       "</table>\n",
       "</div>"
      ],
      "text/plain": [
       "         Rule key  counts_x  counts_y     _merge\n",
       "1       java:S125     277.0     188.0       both\n",
       "2   secrets:S6334     234.0     117.0       both\n",
       "3       xml:S1135     170.0     146.0       both\n",
       "4    kotlin:S1186     152.0       4.0       both\n",
       "6        xml:S125      34.0      31.0       both\n",
       "7    kotlin:S3776       7.0       3.0       both\n",
       "9      java:S1133       4.0       0.0  left_only\n",
       "10     java:S1123       4.0       0.0  left_only\n",
       "11     java:S1444       3.0       0.0  left_only\n",
       "12     java:S1104       3.0       0.0  left_only\n",
       "13     java:S1170       3.0       0.0  left_only\n",
       "15   kotlin:S1066       3.0       1.0       both\n",
       "16   kotlin:S1144       3.0       1.0       both\n",
       "18   kotlin:S4144       2.0       0.0  left_only\n",
       "23   kotlin:S1871       1.0       0.0  left_only\n",
       "24     java:S1118       1.0       0.0  left_only"
      ]
     },
     "execution_count": 361,
     "metadata": {},
     "output_type": "execute_result"
    }
   ],
   "source": [
    "all_smell_details[all_smell_details['counts_x']>all_smell_details['counts_y']]"
   ]
  },
  {
   "cell_type": "code",
   "execution_count": 376,
   "id": "f2f5d71a",
   "metadata": {},
   "outputs": [
    {
     "name": "stderr",
     "output_type": "stream",
     "text": [
      "C:\\Users\\mayur.waghela\\Anaconda3\\lib\\site-packages\\pandas\\core\\indexing.py:1667: SettingWithCopyWarning: \n",
      "A value is trying to be set on a copy of a slice from a DataFrame.\n",
      "Try using .loc[row_indexer,col_indexer] = value instead\n",
      "\n",
      "See the caveats in the documentation: https://pandas.pydata.org/pandas-docs/stable/user_guide/indexing.html#returning-a-view-versus-a-copy\n",
      "  self.obj[key] = value\n"
     ]
    },
    {
     "data": {
      "image/png": "[encoded data removed]",
      "text/plain": [
       "<Figure size 936x504 with 1 Axes>"
      ]
     },
     "metadata": {
      "needs_background": "light"
     },
     "output_type": "display_data"
    }
   ],
   "source": [
    "only_confusion_smell_numbers = all_smell_details[all_smell_details['counts_x']>all_smell_details['counts_y']]\n",
    "only_confusion_smell_numbers.loc[:,'only_confusion'] = only_confusion_smell_numbers['counts_x'] - only_confusion_smell_numbers['counts_y']\n",
    "\n",
    "only_confusion_smell_numbers.sort_values('only_confusion', ascending=False).plot.bar(x='Rule key', y='only_confusion', rot=0, legend=False)\n",
    "plt.xlabel('Code smell')\n",
    "plt.ylabel('Frequency')\n",
    "plt.title('Types of sonar code smells higher in confusion group then no confusion group')\n",
    "\n",
    "plt.xticks(rotation=90)\n",
    "plt.show()"
   ]
  },
  {
   "cell_type": "code",
   "execution_count": 373,
   "id": "392c03a4",
   "metadata": {},
   "outputs": [
    {
     "data": {
      "text/plain": [
       "java:S2209       395\n",
       "java:S125        188\n",
       "xml:S1135        146\n",
       "secrets:S6334    117\n",
       "kotlin:S1135      51\n",
       "xml:S125          31\n",
       "kotlin:S107       11\n",
       "kotlin:S100        8\n",
       "kotlin:S1134       7\n",
       "java:S1192         6\n",
       "kotlin:S1186       4\n",
       "kotlin:S125        4\n",
       "kotlin:S3776       3\n",
       "java:S1128         3\n",
       "kotlin:S1479       2\n",
       "xml:S1134          2\n",
       "java:S1068         2\n",
       "kotlin:S1481       2\n",
       "java:S5411         2\n",
       "kotlin:S1172       2\n",
       "kotlin:S1110       1\n",
       "kotlin:S1066       1\n",
       "kotlin:S1144       1\n",
       "java:S2094         1\n",
       "java:S6212         1\n",
       "kotlin:S1862       1\n",
       "java:S2440         1\n",
       "Name: Rule key, dtype: int64"
      ]
     },
     "execution_count": 373,
     "metadata": {},
     "output_type": "execute_result"
    }
   ],
   "source": [
    "added_smell_sample_details_DF[\"Rule key\"].value_counts()"
   ]
  },
  {
   "cell_type": "code",
   "execution_count": 13,
   "id": "0904c793",
   "metadata": {},
   "outputs": [
    {
     "data": {
      "text/html": [
       "<div>\n",
       "<style scoped>\n",
       "    .dataframe tbody tr th:only-of-type {\n",
       "        vertical-align: middle;\n",
       "    }\n",
       "\n",
       "    .dataframe tbody tr th {\n",
       "        vertical-align: top;\n",
       "    }\n",
       "\n",
       "    .dataframe thead th {\n",
       "        text-align: right;\n",
       "    }\n",
       "</style>\n",
       "<table border=\"1\" class=\"dataframe\">\n",
       "  <thead>\n",
       "    <tr style=\"text-align: right;\">\n",
       "      <th></th>\n",
       "      <th>Unnamed: 0</th>\n",
       "      <th>MRIID</th>\n",
       "      <th>projectID</th>\n",
       "      <th>title</th>\n",
       "      <th>description</th>\n",
       "      <th>state</th>\n",
       "      <th>createdAt</th>\n",
       "      <th>mergedAt</th>\n",
       "      <th>targetBranch</th>\n",
       "      <th>sourceBranch</th>\n",
       "      <th>...</th>\n",
       "      <th>cpd_kotlin_existed</th>\n",
       "      <th>cpd_removed</th>\n",
       "      <th>cpd_added</th>\n",
       "      <th>cpd_existed</th>\n",
       "      <th>pmd_removed</th>\n",
       "      <th>pmd_added</th>\n",
       "      <th>pmd_existed</th>\n",
       "      <th>sonar_removed</th>\n",
       "      <th>sonar_added</th>\n",
       "      <th>sonar_existed</th>\n",
       "    </tr>\n",
       "  </thead>\n",
       "  <tbody>\n",
       "    <tr>\n",
       "      <th>0</th>\n",
       "      <td>2</td>\n",
       "      <td>1617</td>\n",
       "      <td>3982</td>\n",
       "      <td>CDTE-26343</td>\n",
       "      <td>Added Segur implemetation (Document Listing &amp; ...</td>\n",
       "      <td>merged</td>\n",
       "      <td>2022-04-01 11:32:32</td>\n",
       "      <td>2022-04-01 11:35:02</td>\n",
       "      <td>feature/segur</td>\n",
       "      <td>feature/CDTE-26343_documents_section</td>\n",
       "      <td>...</td>\n",
       "      <td>1725</td>\n",
       "      <td>0</td>\n",
       "      <td>0</td>\n",
       "      <td>368</td>\n",
       "      <td>0</td>\n",
       "      <td>0</td>\n",
       "      <td>2348</td>\n",
       "      <td>3</td>\n",
       "      <td>3</td>\n",
       "      <td>583</td>\n",
       "    </tr>\n",
       "    <tr>\n",
       "      <th>1</th>\n",
       "      <td>12</td>\n",
       "      <td>1627</td>\n",
       "      <td>3982</td>\n",
       "      <td>Updated covid 19 search text</td>\n",
       "      <td>NaN</td>\n",
       "      <td>merged</td>\n",
       "      <td>2022-04-04 14:20:17</td>\n",
       "      <td>2022-04-04 14:35:06</td>\n",
       "      <td>release/22.2.0</td>\n",
       "      <td>bugfix/2022/S13/Updated_covid_19_search_text</td>\n",
       "      <td>...</td>\n",
       "      <td>1764</td>\n",
       "      <td>0</td>\n",
       "      <td>0</td>\n",
       "      <td>305</td>\n",
       "      <td>0</td>\n",
       "      <td>0</td>\n",
       "      <td>2348</td>\n",
       "      <td>5</td>\n",
       "      <td>5</td>\n",
       "      <td>652</td>\n",
       "    </tr>\n",
       "    <tr>\n",
       "      <th>2</th>\n",
       "      <td>14</td>\n",
       "      <td>1629</td>\n",
       "      <td>3982</td>\n",
       "      <td>CDTE-27557</td>\n",
       "      <td>Switched prescription listing:  view_orders wi...</td>\n",
       "      <td>merged</td>\n",
       "      <td>2022-04-05 13:21:24</td>\n",
       "      <td>2022-04-05 13:38:36</td>\n",
       "      <td>feature/eprescription-rewrite</td>\n",
       "      <td>feature/CDTE-27557_scan_data_matrix_prescripti...</td>\n",
       "      <td>...</td>\n",
       "      <td>1811</td>\n",
       "      <td>70</td>\n",
       "      <td>70</td>\n",
       "      <td>289</td>\n",
       "      <td>0</td>\n",
       "      <td>0</td>\n",
       "      <td>2348</td>\n",
       "      <td>23</td>\n",
       "      <td>8</td>\n",
       "      <td>638</td>\n",
       "    </tr>\n",
       "    <tr>\n",
       "      <th>3</th>\n",
       "      <td>18</td>\n",
       "      <td>1635</td>\n",
       "      <td>3982</td>\n",
       "      <td>CDTE-27969</td>\n",
       "      <td>Added most common TextAppearances referenced i...</td>\n",
       "      <td>merged</td>\n",
       "      <td>2022-04-06 10:54:34</td>\n",
       "      <td>2022-04-06 11:31:41</td>\n",
       "      <td>develop</td>\n",
       "      <td>feature/CDTE-27969_refactor_styles_typefaces</td>\n",
       "      <td>...</td>\n",
       "      <td>1811</td>\n",
       "      <td>0</td>\n",
       "      <td>0</td>\n",
       "      <td>359</td>\n",
       "      <td>0</td>\n",
       "      <td>0</td>\n",
       "      <td>2348</td>\n",
       "      <td>6</td>\n",
       "      <td>7</td>\n",
       "      <td>657</td>\n",
       "    </tr>\n",
       "    <tr>\n",
       "      <th>4</th>\n",
       "      <td>20</td>\n",
       "      <td>1637</td>\n",
       "      <td>3982</td>\n",
       "      <td>CDTE-10407 CI CD tests</td>\n",
       "      <td>NaN</td>\n",
       "      <td>merged</td>\n",
       "      <td>2022-04-08 07:45:59</td>\n",
       "      <td>2022-06-14 11:03:19</td>\n",
       "      <td>develop</td>\n",
       "      <td>feature/2022/S14/CDTE-10407_ci_cd_gitlab</td>\n",
       "      <td>...</td>\n",
       "      <td>1999</td>\n",
       "      <td>0</td>\n",
       "      <td>0</td>\n",
       "      <td>388</td>\n",
       "      <td>0</td>\n",
       "      <td>0</td>\n",
       "      <td>2348</td>\n",
       "      <td>11</td>\n",
       "      <td>11</td>\n",
       "      <td>751</td>\n",
       "    </tr>\n",
       "    <tr>\n",
       "      <th>...</th>\n",
       "      <td>...</td>\n",
       "      <td>...</td>\n",
       "      <td>...</td>\n",
       "      <td>...</td>\n",
       "      <td>...</td>\n",
       "      <td>...</td>\n",
       "      <td>...</td>\n",
       "      <td>...</td>\n",
       "      <td>...</td>\n",
       "      <td>...</td>\n",
       "      <td>...</td>\n",
       "      <td>...</td>\n",
       "      <td>...</td>\n",
       "      <td>...</td>\n",
       "      <td>...</td>\n",
       "      <td>...</td>\n",
       "      <td>...</td>\n",
       "      <td>...</td>\n",
       "      <td>...</td>\n",
       "      <td>...</td>\n",
       "      <td>...</td>\n",
       "    </tr>\n",
       "    <tr>\n",
       "      <th>74</th>\n",
       "      <td>390</td>\n",
       "      <td>2022</td>\n",
       "      <td>3982</td>\n",
       "      <td>Resolve CDTE-28034 \"Test/ sprint23\"</td>\n",
       "      <td>Related to CDTE-28034</td>\n",
       "      <td>merged</td>\n",
       "      <td>2022-09-13 06:57:50</td>\n",
       "      <td>2022-09-14 10:13:38</td>\n",
       "      <td>develop</td>\n",
       "      <td>test/CDTE-28034-Sprint23</td>\n",
       "      <td>...</td>\n",
       "      <td>2037</td>\n",
       "      <td>0</td>\n",
       "      <td>0</td>\n",
       "      <td>0</td>\n",
       "      <td>0</td>\n",
       "      <td>0</td>\n",
       "      <td>2680</td>\n",
       "      <td>13</td>\n",
       "      <td>10</td>\n",
       "      <td>606</td>\n",
       "    </tr>\n",
       "    <tr>\n",
       "      <th>75</th>\n",
       "      <td>394</td>\n",
       "      <td>2026</td>\n",
       "      <td>3982</td>\n",
       "      <td>CDTE-33980 Update appointment details text</td>\n",
       "      <td>Related to CDTE-33980</td>\n",
       "      <td>merged</td>\n",
       "      <td>2022-09-13 13:45:14</td>\n",
       "      <td>2022-09-14 10:52:04</td>\n",
       "      <td>develop</td>\n",
       "      <td>bugfix/2022/S25/CDTE-33980_Appointment_details...</td>\n",
       "      <td>...</td>\n",
       "      <td>2037</td>\n",
       "      <td>0</td>\n",
       "      <td>0</td>\n",
       "      <td>0</td>\n",
       "      <td>0</td>\n",
       "      <td>0</td>\n",
       "      <td>2680</td>\n",
       "      <td>1</td>\n",
       "      <td>1</td>\n",
       "      <td>617</td>\n",
       "    </tr>\n",
       "    <tr>\n",
       "      <th>76</th>\n",
       "      <td>399</td>\n",
       "      <td>2031</td>\n",
       "      <td>3982</td>\n",
       "      <td>CDTE-33777</td>\n",
       "      <td>Added Erezept medication details screen &amp; logi...</td>\n",
       "      <td>merged</td>\n",
       "      <td>2022-09-14 10:53:23</td>\n",
       "      <td>2022-09-14 10:55:37</td>\n",
       "      <td>feature/eprescription-rewrite</td>\n",
       "      <td>feature/CDTE-33777_erezept_medication_details_...</td>\n",
       "      <td>...</td>\n",
       "      <td>2036</td>\n",
       "      <td>0</td>\n",
       "      <td>0</td>\n",
       "      <td>0</td>\n",
       "      <td>0</td>\n",
       "      <td>0</td>\n",
       "      <td>2680</td>\n",
       "      <td>0</td>\n",
       "      <td>0</td>\n",
       "      <td>630</td>\n",
       "    </tr>\n",
       "    <tr>\n",
       "      <th>77</th>\n",
       "      <td>404</td>\n",
       "      <td>2036</td>\n",
       "      <td>3982</td>\n",
       "      <td>Merge 22.6 into develop</td>\n",
       "      <td>CDTE-32658 Changed strings</td>\n",
       "      <td>merged</td>\n",
       "      <td>2022-09-15 08:48:21</td>\n",
       "      <td>2022-09-15 08:59:48</td>\n",
       "      <td>develop</td>\n",
       "      <td>feature/2022/S25/merge_22.6_in_develop</td>\n",
       "      <td>...</td>\n",
       "      <td>1948</td>\n",
       "      <td>0</td>\n",
       "      <td>0</td>\n",
       "      <td>0</td>\n",
       "      <td>0</td>\n",
       "      <td>0</td>\n",
       "      <td>3268</td>\n",
       "      <td>0</td>\n",
       "      <td>0</td>\n",
       "      <td>613</td>\n",
       "    </tr>\n",
       "    <tr>\n",
       "      <th>78</th>\n",
       "      <td>407</td>\n",
       "      <td>2039</td>\n",
       "      <td>3982</td>\n",
       "      <td>[CDTE-30309] [BUG] Redesign search: The orange...</td>\n",
       "      <td>[CDTE-30309] Remove ToolbarBadgesDelegate.kt, ...</td>\n",
       "      <td>merged</td>\n",
       "      <td>2022-09-16 11:23:12</td>\n",
       "      <td>2022-09-20 11:39:28</td>\n",
       "      <td>develop</td>\n",
       "      <td>fix/CDTE-30309/the_orange_dot_is_not_as_in_design</td>\n",
       "      <td>...</td>\n",
       "      <td>1990</td>\n",
       "      <td>0</td>\n",
       "      <td>0</td>\n",
       "      <td>0</td>\n",
       "      <td>0</td>\n",
       "      <td>0</td>\n",
       "      <td>3268</td>\n",
       "      <td>0</td>\n",
       "      <td>0</td>\n",
       "      <td>612</td>\n",
       "    </tr>\n",
       "  </tbody>\n",
       "</table>\n",
       "<p>79 rows × 31 columns</p>\n",
       "</div>"
      ],
      "text/plain": [
       "    Unnamed: 0  MRIID  projectID  \\\n",
       "0            2   1617       3982   \n",
       "1           12   1627       3982   \n",
       "2           14   1629       3982   \n",
       "3           18   1635       3982   \n",
       "4           20   1637       3982   \n",
       "..         ...    ...        ...   \n",
       "74         390   2022       3982   \n",
       "75         394   2026       3982   \n",
       "76         399   2031       3982   \n",
       "77         404   2036       3982   \n",
       "78         407   2039       3982   \n",
       "\n",
       "                                                title  \\\n",
       "0                                          CDTE-26343   \n",
       "1                        Updated covid 19 search text   \n",
       "2                                          CDTE-27557   \n",
       "3                                          CDTE-27969   \n",
       "4                              CDTE-10407 CI CD tests   \n",
       "..                                                ...   \n",
       "74                Resolve CDTE-28034 \"Test/ sprint23\"   \n",
       "75         CDTE-33980 Update appointment details text   \n",
       "76                                         CDTE-33777   \n",
       "77                            Merge 22.6 into develop   \n",
       "78  [CDTE-30309] [BUG] Redesign search: The orange...   \n",
       "\n",
       "                                          description   state  \\\n",
       "0   Added Segur implemetation (Document Listing & ...  merged   \n",
       "1                                                 NaN  merged   \n",
       "2   Switched prescription listing:  view_orders wi...  merged   \n",
       "3   Added most common TextAppearances referenced i...  merged   \n",
       "4                                                 NaN  merged   \n",
       "..                                                ...     ...   \n",
       "74                              Related to CDTE-28034  merged   \n",
       "75                              Related to CDTE-33980  merged   \n",
       "76  Added Erezept medication details screen & logi...  merged   \n",
       "77                         CDTE-32658 Changed strings  merged   \n",
       "78  [CDTE-30309] Remove ToolbarBadgesDelegate.kt, ...  merged   \n",
       "\n",
       "             createdAt            mergedAt                   targetBranch  \\\n",
       "0  2022-04-01 11:32:32 2022-04-01 11:35:02                  feature/segur   \n",
       "1  2022-04-04 14:20:17 2022-04-04 14:35:06                 release/22.2.0   \n",
       "2  2022-04-05 13:21:24 2022-04-05 13:38:36  feature/eprescription-rewrite   \n",
       "3  2022-04-06 10:54:34 2022-04-06 11:31:41                        develop   \n",
       "4  2022-04-08 07:45:59 2022-06-14 11:03:19                        develop   \n",
       "..                 ...                 ...                            ...   \n",
       "74 2022-09-13 06:57:50 2022-09-14 10:13:38                        develop   \n",
       "75 2022-09-13 13:45:14 2022-09-14 10:52:04                        develop   \n",
       "76 2022-09-14 10:53:23 2022-09-14 10:55:37  feature/eprescription-rewrite   \n",
       "77 2022-09-15 08:48:21 2022-09-15 08:59:48                        develop   \n",
       "78 2022-09-16 11:23:12 2022-09-20 11:39:28                        develop   \n",
       "\n",
       "                                         sourceBranch  ... cpd_kotlin_existed  \\\n",
       "0                feature/CDTE-26343_documents_section  ...               1725   \n",
       "1        bugfix/2022/S13/Updated_covid_19_search_text  ...               1764   \n",
       "2   feature/CDTE-27557_scan_data_matrix_prescripti...  ...               1811   \n",
       "3        feature/CDTE-27969_refactor_styles_typefaces  ...               1811   \n",
       "4            feature/2022/S14/CDTE-10407_ci_cd_gitlab  ...               1999   \n",
       "..                                                ...  ...                ...   \n",
       "74                           test/CDTE-28034-Sprint23  ...               2037   \n",
       "75  bugfix/2022/S25/CDTE-33980_Appointment_details...  ...               2037   \n",
       "76  feature/CDTE-33777_erezept_medication_details_...  ...               2036   \n",
       "77             feature/2022/S25/merge_22.6_in_develop  ...               1948   \n",
       "78  fix/CDTE-30309/the_orange_dot_is_not_as_in_design  ...               1990   \n",
       "\n",
       "    cpd_removed  cpd_added  cpd_existed pmd_removed  pmd_added  pmd_existed  \\\n",
       "0             0          0          368           0          0         2348   \n",
       "1             0          0          305           0          0         2348   \n",
       "2            70         70          289           0          0         2348   \n",
       "3             0          0          359           0          0         2348   \n",
       "4             0          0          388           0          0         2348   \n",
       "..          ...        ...          ...         ...        ...          ...   \n",
       "74            0          0            0           0          0         2680   \n",
       "75            0          0            0           0          0         2680   \n",
       "76            0          0            0           0          0         2680   \n",
       "77            0          0            0           0          0         3268   \n",
       "78            0          0            0           0          0         3268   \n",
       "\n",
       "    sonar_removed  sonar_added  sonar_existed  \n",
       "0               3            3            583  \n",
       "1               5            5            652  \n",
       "2              23            8            638  \n",
       "3               6            7            657  \n",
       "4              11           11            751  \n",
       "..            ...          ...            ...  \n",
       "74             13           10            606  \n",
       "75              1            1            617  \n",
       "76              0            0            630  \n",
       "77              0            0            613  \n",
       "78              0            0            612  \n",
       "\n",
       "[79 rows x 31 columns]"
      ]
     },
     "execution_count": 13,
     "metadata": {},
     "output_type": "execute_result"
    }
   ],
   "source": [
    "sample_mrDF"
   ]
  },
  {
   "cell_type": "code",
   "execution_count": 14,
   "id": "3b43920e",
   "metadata": {},
   "outputs": [
    {
     "data": {
      "text/html": [
       "<div>\n",
       "<style scoped>\n",
       "    .dataframe tbody tr th:only-of-type {\n",
       "        vertical-align: middle;\n",
       "    }\n",
       "\n",
       "    .dataframe tbody tr th {\n",
       "        vertical-align: top;\n",
       "    }\n",
       "\n",
       "    .dataframe thead th {\n",
       "        text-align: right;\n",
       "    }\n",
       "</style>\n",
       "<table border=\"1\" class=\"dataframe\">\n",
       "  <thead>\n",
       "    <tr style=\"text-align: right;\">\n",
       "      <th></th>\n",
       "      <th>Unnamed: 0</th>\n",
       "      <th>MRIID</th>\n",
       "      <th>projectID</th>\n",
       "      <th>title</th>\n",
       "      <th>description</th>\n",
       "      <th>state</th>\n",
       "      <th>createdAt</th>\n",
       "      <th>mergedAt</th>\n",
       "      <th>targetBranch</th>\n",
       "      <th>sourceBranch</th>\n",
       "      <th>...</th>\n",
       "      <th>cpd_kotlin_existed</th>\n",
       "      <th>cpd_removed</th>\n",
       "      <th>cpd_added</th>\n",
       "      <th>cpd_existed</th>\n",
       "      <th>pmd_removed</th>\n",
       "      <th>pmd_added</th>\n",
       "      <th>pmd_existed</th>\n",
       "      <th>sonar_removed</th>\n",
       "      <th>sonar_added</th>\n",
       "      <th>sonar_existed</th>\n",
       "    </tr>\n",
       "  </thead>\n",
       "  <tbody>\n",
       "    <tr>\n",
       "      <th>0</th>\n",
       "      <td>4</td>\n",
       "      <td>1619</td>\n",
       "      <td>3982</td>\n",
       "      <td>CDTE-26347</td>\n",
       "      <td>- added RV scroll helper\\n- check if there is ...</td>\n",
       "      <td>merged</td>\n",
       "      <td>2022-04-01 12:20:38</td>\n",
       "      <td>2022-04-01 13:29:07</td>\n",
       "      <td>feature/booking-assistant-v2</td>\n",
       "      <td>feature/CDTE-26347-weekly-calendar-view-animat...</td>\n",
       "      <td>...</td>\n",
       "      <td>1786</td>\n",
       "      <td>0</td>\n",
       "      <td>0</td>\n",
       "      <td>351</td>\n",
       "      <td>0</td>\n",
       "      <td>0</td>\n",
       "      <td>2569</td>\n",
       "      <td>10</td>\n",
       "      <td>10</td>\n",
       "      <td>628</td>\n",
       "    </tr>\n",
       "    <tr>\n",
       "      <th>1</th>\n",
       "      <td>17</td>\n",
       "      <td>1634</td>\n",
       "      <td>3982</td>\n",
       "      <td>CDTE-25498 - Added mechanism to incorporate se...</td>\n",
       "      <td>CDTE-25498 - Added mechanism to incorporate se...</td>\n",
       "      <td>merged</td>\n",
       "      <td>2022-04-06 08:38:52</td>\n",
       "      <td>2022-04-07 11:47:25</td>\n",
       "      <td>feature/booking-assistant-v2</td>\n",
       "      <td>feature/booking-assistant-appointmentsummary</td>\n",
       "      <td>...</td>\n",
       "      <td>1782</td>\n",
       "      <td>0</td>\n",
       "      <td>0</td>\n",
       "      <td>359</td>\n",
       "      <td>0</td>\n",
       "      <td>0</td>\n",
       "      <td>2569</td>\n",
       "      <td>14</td>\n",
       "      <td>14</td>\n",
       "      <td>658</td>\n",
       "    </tr>\n",
       "    <tr>\n",
       "      <th>2</th>\n",
       "      <td>27</td>\n",
       "      <td>1644</td>\n",
       "      <td>3982</td>\n",
       "      <td>CDTE-27649 Appointment Wish Summary</td>\n",
       "      <td>appointment wish summary screen\\nremove hardco...</td>\n",
       "      <td>merged</td>\n",
       "      <td>2022-04-12 08:12:35</td>\n",
       "      <td>2022-04-12 12:30:10</td>\n",
       "      <td>feature/booking-assistant-v2</td>\n",
       "      <td>feature/CDTE-27649_AppointmentWishSummary</td>\n",
       "      <td>...</td>\n",
       "      <td>1770</td>\n",
       "      <td>0</td>\n",
       "      <td>0</td>\n",
       "      <td>359</td>\n",
       "      <td>0</td>\n",
       "      <td>0</td>\n",
       "      <td>2569</td>\n",
       "      <td>11</td>\n",
       "      <td>13</td>\n",
       "      <td>661</td>\n",
       "    </tr>\n",
       "    <tr>\n",
       "      <th>3</th>\n",
       "      <td>31</td>\n",
       "      <td>1648</td>\n",
       "      <td>3982</td>\n",
       "      <td>CDTE-27737</td>\n",
       "      <td>Implemented DataMatrixScanner\\nAdded DataMatri...</td>\n",
       "      <td>merged</td>\n",
       "      <td>2022-04-12 16:51:55</td>\n",
       "      <td>2022-04-15 18:19:16</td>\n",
       "      <td>feature/eprescription-rewrite</td>\n",
       "      <td>feature/CDTE-27737_scanDataMatrix</td>\n",
       "      <td>...</td>\n",
       "      <td>1774</td>\n",
       "      <td>0</td>\n",
       "      <td>0</td>\n",
       "      <td>359</td>\n",
       "      <td>0</td>\n",
       "      <td>0</td>\n",
       "      <td>2569</td>\n",
       "      <td>12</td>\n",
       "      <td>13</td>\n",
       "      <td>652</td>\n",
       "    </tr>\n",
       "    <tr>\n",
       "      <th>4</th>\n",
       "      <td>46</td>\n",
       "      <td>1664</td>\n",
       "      <td>3982</td>\n",
       "      <td>CDTE-27634</td>\n",
       "      <td>implemented dynamic way to calculate progressb...</td>\n",
       "      <td>merged</td>\n",
       "      <td>2022-04-18 11:00:20</td>\n",
       "      <td>2022-04-18 12:26:39</td>\n",
       "      <td>feature/booking-assistant-v2</td>\n",
       "      <td>feature/CDTE-27634_progressBar</td>\n",
       "      <td>...</td>\n",
       "      <td>1788</td>\n",
       "      <td>0</td>\n",
       "      <td>0</td>\n",
       "      <td>359</td>\n",
       "      <td>0</td>\n",
       "      <td>0</td>\n",
       "      <td>2569</td>\n",
       "      <td>11</td>\n",
       "      <td>11</td>\n",
       "      <td>667</td>\n",
       "    </tr>\n",
       "    <tr>\n",
       "      <th>...</th>\n",
       "      <td>...</td>\n",
       "      <td>...</td>\n",
       "      <td>...</td>\n",
       "      <td>...</td>\n",
       "      <td>...</td>\n",
       "      <td>...</td>\n",
       "      <td>...</td>\n",
       "      <td>...</td>\n",
       "      <td>...</td>\n",
       "      <td>...</td>\n",
       "      <td>...</td>\n",
       "      <td>...</td>\n",
       "      <td>...</td>\n",
       "      <td>...</td>\n",
       "      <td>...</td>\n",
       "      <td>...</td>\n",
       "      <td>...</td>\n",
       "      <td>...</td>\n",
       "      <td>...</td>\n",
       "      <td>...</td>\n",
       "      <td>...</td>\n",
       "    </tr>\n",
       "    <tr>\n",
       "      <th>74</th>\n",
       "      <td>420</td>\n",
       "      <td>2053</td>\n",
       "      <td>3982</td>\n",
       "      <td>CDTE-33777</td>\n",
       "      <td>Added Erezept medication details screen &amp; logi...</td>\n",
       "      <td>merged</td>\n",
       "      <td>2022-09-22 15:11:51</td>\n",
       "      <td>2022-09-23 13:07:11</td>\n",
       "      <td>feature/eprescription-rewrite</td>\n",
       "      <td>feature/CDTE-33777_erezept_medication_details_...</td>\n",
       "      <td>...</td>\n",
       "      <td>1991</td>\n",
       "      <td>0</td>\n",
       "      <td>0</td>\n",
       "      <td>0</td>\n",
       "      <td>0</td>\n",
       "      <td>0</td>\n",
       "      <td>3077</td>\n",
       "      <td>4</td>\n",
       "      <td>5</td>\n",
       "      <td>775</td>\n",
       "    </tr>\n",
       "    <tr>\n",
       "      <th>75</th>\n",
       "      <td>424</td>\n",
       "      <td>2057</td>\n",
       "      <td>3982</td>\n",
       "      <td>CDTE-34259</td>\n",
       "      <td>if questionare conditions has upfront document...</td>\n",
       "      <td>merged</td>\n",
       "      <td>2022-09-23 10:56:47</td>\n",
       "      <td>2022-09-23 12:55:49</td>\n",
       "      <td>feature/booking-assistant-v2</td>\n",
       "      <td>bugfix/CDTE-34259_upfrontDocuments</td>\n",
       "      <td>...</td>\n",
       "      <td>2061</td>\n",
       "      <td>0</td>\n",
       "      <td>0</td>\n",
       "      <td>0</td>\n",
       "      <td>0</td>\n",
       "      <td>0</td>\n",
       "      <td>3077</td>\n",
       "      <td>2</td>\n",
       "      <td>2</td>\n",
       "      <td>771</td>\n",
       "    </tr>\n",
       "    <tr>\n",
       "      <th>76</th>\n",
       "      <td>430</td>\n",
       "      <td>2063</td>\n",
       "      <td>3982</td>\n",
       "      <td>CDTE-34238 - Improvement - AB - replace card a...</td>\n",
       "      <td>- dialog for changing payment card</td>\n",
       "      <td>merged</td>\n",
       "      <td>2022-09-26 07:20:15</td>\n",
       "      <td>2022-10-11 07:20:06</td>\n",
       "      <td>feature/booking-assistant-v2</td>\n",
       "      <td>feature/CDTE-34238-Improvement-AB-replace-card...</td>\n",
       "      <td>...</td>\n",
       "      <td>1992</td>\n",
       "      <td>0</td>\n",
       "      <td>0</td>\n",
       "      <td>0</td>\n",
       "      <td>0</td>\n",
       "      <td>0</td>\n",
       "      <td>3077</td>\n",
       "      <td>7</td>\n",
       "      <td>7</td>\n",
       "      <td>786</td>\n",
       "    </tr>\n",
       "    <tr>\n",
       "      <th>77</th>\n",
       "      <td>436</td>\n",
       "      <td>2069</td>\n",
       "      <td>3982</td>\n",
       "      <td>CDTE-34375</td>\n",
       "      <td>now we get patient qualifiers in appointment a...</td>\n",
       "      <td>merged</td>\n",
       "      <td>2022-09-27 08:17:41</td>\n",
       "      <td>2022-09-27 11:21:31</td>\n",
       "      <td>feature/booking-assistant-v2</td>\n",
       "      <td>feature/CDTE-34375_patientQualifiersCall</td>\n",
       "      <td>...</td>\n",
       "      <td>2056</td>\n",
       "      <td>0</td>\n",
       "      <td>0</td>\n",
       "      <td>0</td>\n",
       "      <td>1839</td>\n",
       "      <td>2992</td>\n",
       "      <td>1880</td>\n",
       "      <td>1</td>\n",
       "      <td>1</td>\n",
       "      <td>772</td>\n",
       "    </tr>\n",
       "    <tr>\n",
       "      <th>78</th>\n",
       "      <td>440</td>\n",
       "      <td>2073</td>\n",
       "      <td>3982</td>\n",
       "      <td>CDTE-34474 fixed secondary order button text +...</td>\n",
       "      <td>fixed secondary order button text + action\\n\\n...</td>\n",
       "      <td>merged</td>\n",
       "      <td>2022-09-27 13:59:41</td>\n",
       "      <td>2022-09-28 12:51:14</td>\n",
       "      <td>release/22.8.0</td>\n",
       "      <td>bugfix/CDTE-34474_moreInfoButton</td>\n",
       "      <td>...</td>\n",
       "      <td>2059</td>\n",
       "      <td>0</td>\n",
       "      <td>0</td>\n",
       "      <td>0</td>\n",
       "      <td>0</td>\n",
       "      <td>0</td>\n",
       "      <td>5518</td>\n",
       "      <td>0</td>\n",
       "      <td>0</td>\n",
       "      <td>760</td>\n",
       "    </tr>\n",
       "  </tbody>\n",
       "</table>\n",
       "<p>79 rows × 31 columns</p>\n",
       "</div>"
      ],
      "text/plain": [
       "    Unnamed: 0  MRIID  projectID  \\\n",
       "0            4   1619       3982   \n",
       "1           17   1634       3982   \n",
       "2           27   1644       3982   \n",
       "3           31   1648       3982   \n",
       "4           46   1664       3982   \n",
       "..         ...    ...        ...   \n",
       "74         420   2053       3982   \n",
       "75         424   2057       3982   \n",
       "76         430   2063       3982   \n",
       "77         436   2069       3982   \n",
       "78         440   2073       3982   \n",
       "\n",
       "                                                title  \\\n",
       "0                                          CDTE-26347   \n",
       "1   CDTE-25498 - Added mechanism to incorporate se...   \n",
       "2                 CDTE-27649 Appointment Wish Summary   \n",
       "3                                          CDTE-27737   \n",
       "4                                          CDTE-27634   \n",
       "..                                                ...   \n",
       "74                                         CDTE-33777   \n",
       "75                                         CDTE-34259   \n",
       "76  CDTE-34238 - Improvement - AB - replace card a...   \n",
       "77                                         CDTE-34375   \n",
       "78  CDTE-34474 fixed secondary order button text +...   \n",
       "\n",
       "                                          description   state  \\\n",
       "0   - added RV scroll helper\\n- check if there is ...  merged   \n",
       "1   CDTE-25498 - Added mechanism to incorporate se...  merged   \n",
       "2   appointment wish summary screen\\nremove hardco...  merged   \n",
       "3   Implemented DataMatrixScanner\\nAdded DataMatri...  merged   \n",
       "4   implemented dynamic way to calculate progressb...  merged   \n",
       "..                                                ...     ...   \n",
       "74  Added Erezept medication details screen & logi...  merged   \n",
       "75  if questionare conditions has upfront document...  merged   \n",
       "76                 - dialog for changing payment card  merged   \n",
       "77  now we get patient qualifiers in appointment a...  merged   \n",
       "78  fixed secondary order button text + action\\n\\n...  merged   \n",
       "\n",
       "             createdAt            mergedAt                   targetBranch  \\\n",
       "0  2022-04-01 12:20:38 2022-04-01 13:29:07   feature/booking-assistant-v2   \n",
       "1  2022-04-06 08:38:52 2022-04-07 11:47:25   feature/booking-assistant-v2   \n",
       "2  2022-04-12 08:12:35 2022-04-12 12:30:10   feature/booking-assistant-v2   \n",
       "3  2022-04-12 16:51:55 2022-04-15 18:19:16  feature/eprescription-rewrite   \n",
       "4  2022-04-18 11:00:20 2022-04-18 12:26:39   feature/booking-assistant-v2   \n",
       "..                 ...                 ...                            ...   \n",
       "74 2022-09-22 15:11:51 2022-09-23 13:07:11  feature/eprescription-rewrite   \n",
       "75 2022-09-23 10:56:47 2022-09-23 12:55:49   feature/booking-assistant-v2   \n",
       "76 2022-09-26 07:20:15 2022-10-11 07:20:06   feature/booking-assistant-v2   \n",
       "77 2022-09-27 08:17:41 2022-09-27 11:21:31   feature/booking-assistant-v2   \n",
       "78 2022-09-27 13:59:41 2022-09-28 12:51:14                 release/22.8.0   \n",
       "\n",
       "                                         sourceBranch  ... cpd_kotlin_existed  \\\n",
       "0   feature/CDTE-26347-weekly-calendar-view-animat...  ...               1786   \n",
       "1        feature/booking-assistant-appointmentsummary  ...               1782   \n",
       "2           feature/CDTE-27649_AppointmentWishSummary  ...               1770   \n",
       "3                   feature/CDTE-27737_scanDataMatrix  ...               1774   \n",
       "4                      feature/CDTE-27634_progressBar  ...               1788   \n",
       "..                                                ...  ...                ...   \n",
       "74  feature/CDTE-33777_erezept_medication_details_...  ...               1991   \n",
       "75                 bugfix/CDTE-34259_upfrontDocuments  ...               2061   \n",
       "76  feature/CDTE-34238-Improvement-AB-replace-card...  ...               1992   \n",
       "77           feature/CDTE-34375_patientQualifiersCall  ...               2056   \n",
       "78                   bugfix/CDTE-34474_moreInfoButton  ...               2059   \n",
       "\n",
       "    cpd_removed  cpd_added  cpd_existed pmd_removed  pmd_added  pmd_existed  \\\n",
       "0             0          0          351           0          0         2569   \n",
       "1             0          0          359           0          0         2569   \n",
       "2             0          0          359           0          0         2569   \n",
       "3             0          0          359           0          0         2569   \n",
       "4             0          0          359           0          0         2569   \n",
       "..          ...        ...          ...         ...        ...          ...   \n",
       "74            0          0            0           0          0         3077   \n",
       "75            0          0            0           0          0         3077   \n",
       "76            0          0            0           0          0         3077   \n",
       "77            0          0            0        1839       2992         1880   \n",
       "78            0          0            0           0          0         5518   \n",
       "\n",
       "    sonar_removed  sonar_added  sonar_existed  \n",
       "0              10           10            628  \n",
       "1              14           14            658  \n",
       "2              11           13            661  \n",
       "3              12           13            652  \n",
       "4              11           11            667  \n",
       "..            ...          ...            ...  \n",
       "74              4            5            775  \n",
       "75              2            2            771  \n",
       "76              7            7            786  \n",
       "77              1            1            772  \n",
       "78              0            0            760  \n",
       "\n",
       "[79 rows x 31 columns]"
      ]
     },
     "execution_count": 14,
     "metadata": {},
     "output_type": "execute_result"
    }
   ],
   "source": [
    "confusion_smell_df"
   ]
  },
  {
   "cell_type": "code",
   "execution_count": 28,
   "id": "9bf03504",
   "metadata": {},
   "outputs": [
    {
     "data": {
      "text/plain": [
       "(74.58227848101266, 21.0)"
      ]
     },
     "execution_count": 28,
     "metadata": {},
     "output_type": "execute_result"
    }
   ],
   "source": [
    "#TIME TAKEN BY MERGE REQUESTS\n",
    "np.mean((confusion_smell_df['mergedAt']-confusion_smell_df['createdAt']).astype('timedelta64[h]')), np.median((confusion_smell_df['mergedAt']-confusion_smell_df['createdAt']).astype('timedelta64[h]'))"
   ]
  },
  {
   "cell_type": "code",
   "execution_count": 30,
   "id": "49875ca1",
   "metadata": {},
   "outputs": [
    {
     "data": {
      "text/plain": [
       "(72.63291139240506, 1.0)"
      ]
     },
     "execution_count": 30,
     "metadata": {},
     "output_type": "execute_result"
    }
   ],
   "source": [
    "np.mean((sample_mrDF['mergedAt']-sample_mrDF['createdAt']).astype('timedelta64[h]')), np.median((sample_mrDF['mergedAt']-sample_mrDF['createdAt']).astype('timedelta64[h]'))"
   ]
  },
  {
   "cell_type": "code",
   "execution_count": 24,
   "id": "80deb988",
   "metadata": {},
   "outputs": [],
   "source": [
    "data1DF = pd.DataFrame(columns=['type', 'Merge_time_Hrs'])\n",
    "data1DF['Merge_time_Hrs'] = (confusion_smell_df['mergedAt']-confusion_smell_df['createdAt']).astype('timedelta64[h]')\n",
    "data1DF['type'] = 'Confusion'\n",
    "\n",
    "\n",
    "data2DF = pd.DataFrame(columns=['type', 'Merge_time_Hrs'])\n",
    "data2DF['Merge_time_Hrs'] = (sample_mrDF['mergedAt']-sample_mrDF['createdAt']).astype('timedelta64[h]')\n",
    "data2DF['type'] = 'No Confusion'\n",
    "\n",
    "merge_time_df = data1DF.fillna('Confusion').append(data2DF.fillna('No Confusion'))"
   ]
  },
  {
   "cell_type": "code",
   "execution_count": 40,
   "id": "cfb01a5a",
   "metadata": {},
   "outputs": [
    {
     "data": {
      "image/png": "[encoded data removed]",
      "text/plain": [
       "<Figure size 504x360 with 1 Axes>"
      ]
     },
     "metadata": {
      "needs_background": "light"
     },
     "output_type": "display_data"
    }
   ],
   "source": [
    "ax = merge_time_df.boxplot(column='Merge_time_Hrs', by='type', showfliers=True, \n",
    "                positions=range(merge_time_df.type.unique().shape[0]), figsize =(7, 5))\n",
    "\n",
    "sns.pointplot(x='type', y='Merge_time_Hrs', data=merge_time_df.groupby('type', as_index=False).median(), ax=ax)\n",
    "plt.ylabel('Hours took to merge')\n",
    "plt.xlabel('')\n",
    "ax.yaxis.grid(True) # Hide the horizontal gridlines\n",
    "ax.xaxis.grid(True) # Show the vertical gridlines\n",
    "plt.title('Correlation between confusion & No confusion with Hours took to merge')\n",
    "plt.show()"
   ]
  },
  {
   "cell_type": "code",
   "execution_count": 77,
   "id": "e383e93c",
   "metadata": {},
   "outputs": [
    {
     "data": {
      "image/png": "[encoded data removed]",
      "text/plain": [
       "<Figure size 936x504 with 1 Axes>"
      ]
     },
     "metadata": {
      "needs_background": "light"
     },
     "output_type": "display_data"
    }
   ],
   "source": [
    "fig, ax = plt.subplots()\n",
    "b_heights, b_bins = np.histogram(pd.to_numeric(data2DF['Merge_time_Hrs']))\n",
    "a_heights, a_bins = np.histogram(pd.to_numeric(data1DF['Merge_time_Hrs']), bins=b_bins)\n",
    "width = (a_bins[1] - a_bins[0])/3\n",
    "ax.bar(a_bins[:-1], a_heights, width=width, facecolor='tab:blue') #confusion\n",
    "ax.bar(b_bins[:-1]+width, b_heights, width=width, facecolor='tab:orange') #no-confusion\n",
    "plt.axvline(pd.to_numeric(data1DF['Merge_time_Hrs']).median(), color='r', linestyle='dashed', linewidth=3)\n",
    "plt.axvline(pd.to_numeric(data2DF['Merge_time_Hrs']).median(), color='y', linestyle='dashed', linewidth=3)\n",
    "plt.title('Hours took by merge request to get merged into central repository')\n",
    "plt.xlabel(\"Hours\")\n",
    "plt.ylabel(\"No. of merge requests\")\n",
    "confusion_mean = np.round(np.median(data1DF['Merge_time_Hrs']), 3)\n",
    "sample_mean = np.round(np.median(data2DF['Merge_time_Hrs']), 3)\n",
    "ax.legend(['Confusion Median: '+str(int(confusion_mean))+'Hrs', 'No Confusion Median: '+str(int(sample_mean))+'Hr', 'Confusion', 'No Confusion'])\n",
    "plt.show()"
   ]
  },
  {
   "cell_type": "code",
   "execution_count": null,
   "id": "fa416b92",
   "metadata": {},
   "outputs": [],
   "source": [
    "#AVERAGE COMMITS IN BOTH GROUP\n",
    "import gitlab\n",
    "\n",
    "with open('Credentials.json') as f:\n",
    "    data = json.load(f)\n",
    "    mariadb_pwd = data['MariaDB_PWD']\n",
    "    git_token = data['GIT_Token']\n",
    "\n",
    "gl = gitlab.Gitlab(url='https://git.cgm.ag', private_token=git_token)\n",
    "project = gl.projects.get(3982)\n",
    "\n",
    "manual_label_df = pd.read_excel('final_data/Merge__request_with_confusion_smells_data.xlsx')\n",
    "\n",
    "for index, row in manual_label_df.iterrows():\n",
    "    manual_label_df.loc[index,'noOfCommits'] = len(project.mergerequests.get(row['MRIID']).commits(order_by=\"updated_at\", get_all=True))\n",
    "\n",
    "sample_df = pd.read_excel('final_data/Merge_request_sample_no_confusion_smells_data.xlsx')\n",
    "\n",
    "for index, row in sample_df.iterrows():\n",
    "    sample_df.loc[index,'noOfCommits'] = len(project.mergerequests.get(row['MRIID']).commits(order_by=\"updated_at\", get_all=True))\n",
    "    \n",
    "manual_label_df.to_excel('final_data/Merge__request_with_confusion_smells_data.xlsx')\n",
    "sample_df.to_excel('final_data/Merge_request_sample_no_confusion_smells_data.xlsx')"
   ]
  },
  {
   "cell_type": "code",
   "execution_count": 19,
   "id": "2d263f63",
   "metadata": {},
   "outputs": [
    {
     "data": {
      "text/plain": [
       "(8.113924050632912, 5.253164556962025)"
      ]
     },
     "execution_count": 19,
     "metadata": {},
     "output_type": "execute_result"
    }
   ],
   "source": [
    "manual_label_df = pd.read_excel('final_data/Merge__request_with_confusion_smells_data.xlsx')\n",
    "sample_df = pd.read_excel('final_data/Merge_request_sample_no_confusion_smells_data.xlsx')\n",
    "np.average(manual_label_df['noOfCommits']), np.average(sample_df['noOfCommits'])"
   ]
  },
  {
   "cell_type": "code",
   "execution_count": null,
   "id": "c3d7a31d",
   "metadata": {},
   "outputs": [],
   "source": []
  }
 ],
 "metadata": {
  "kernelspec": {
   "display_name": "Python 3 (ipykernel)",
   "language": "python",
   "name": "python3"
  },
  "language_info": {
   "codemirror_mode": {
    "name": "ipython",
    "version": 3
   },
   "file_extension": ".py",
   "mimetype": "text/x-python",
   "name": "python",
   "nbconvert_exporter": "python",
   "pygments_lexer": "ipython3",
   "version": "3.9.7"
  }
 },
 "nbformat": 4,
 "nbformat_minor": 5
}
